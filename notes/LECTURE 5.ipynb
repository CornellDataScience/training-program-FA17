{
 "cells": [
  {
   "cell_type": "markdown",
   "metadata": {},
   "source": [
    "# Lecture 5: Linear Regression Recap and Intro to Classification\n",
    "\n",
    "In the previous lecture, we used the example of **linear regression**. In this lecture, we will review the loss function for linear regression as well as look at residual analysis and how to detect and then rectify **heteroscedasticity**. We will also look the alternative of **polynomial regression** for when the data is not linear. In data science, it is essential to distinguish the type of problems we are solving. So far in this course, we have learned some **regression** techniques. We will now proceed to exploring methods to solve **classification** problems.\n",
    "\n",
    "* __Regression__ - predicting a numeric value based on other values that are influence it in some way.\n",
    "* __Classification__ - assigning a discrete \"class\" to a data point (for example, either Red or Blue) based on attributes of the data point.\n",
    "\n",
    "In the next lecture, we will build upon the types of classifiers even more. \n",
    "\n",
    "\n",
    "## Loss Function\n",
    "\n",
    "A good model will minimize the **loss function**, which is a measure of the difference between the model's prediction and the actual answer. The loss function for linear regression is the least squares error. To compute the total error associated with a simple linear regression model given some existing data points, we use the following process:\n",
    "\n",
    "* Start with total error = 0.\n",
    "* For each $x$ value, we compute what the predicted value of $y$ (which we've been referring to as $\\hat{y}$) should be given our model. \n",
    "* We then compute the distance from this value to the actual value of $y$ at this value of $x$. We use the square of the Euclidean distance formula to calculate this distance ($(\\sqrt{(y - \\hat{y})^2})^2 = (y - \\hat{y})^2$).\n",
    "* Add this distance to the total error.\n",
    "\n",
    "For example, suppose we had the single data point (5, 6). If our model is represented by the linear equation $y = 3 + 2x$, then our total error would be $(6 - (3 + 2(5)))^2 = 49$. This method of using Euclidean distance to compute total error is called __least-squares error__ (or __sum of squared error__). For our dataset, we will be using **root mean sqared error** which normalizes the error by the number of data points. The formula version of this, given that we have $n$ data points, is:\n",
    "\n",
    "$$\\sqrt{\\frac{\\sum_{j = 1}^{n} (y_j - \\hat{y})^2}{n}}$$\n",
    "\n",
    "For those of you who are proficient in calculus, here is a link to an explanation on how to do simple linear regression using differentiation: https://www.amherst.edu/system/files/media/1287/SLR_Leastsquares.pdf\n",
    "\n",
    "### Using Python\n",
    "\n",
    "Now it's time to create a full linear regression model using Python. We're going to go over how to create the \"line of best fit\" mentioned earlier in detail.\n",
    "\n",
    "We start by creating a variable representing our model. We'll call this variable `reg`. To create this model we can use R's `LinearRegression` and `fit` functions.\n",
    "\n",
    "Execute the statement below and observe the output."
   ]
  },
  {
   "cell_type": "code",
   "execution_count": 1,
   "metadata": {
    "collapsed": false
   },
   "outputs": [
    {
     "name": "stdout",
     "output_type": "stream",
     "text": [
      "   sepallength  sepalwidth  petallength  petalwidth  class\n",
      "0          5.1         3.5          1.4         0.2    0.0\n",
      "1          4.9         3.0          1.4         0.2    0.0\n",
      "2          4.7         3.2          1.3         0.2    0.0\n",
      "3          4.6         3.1          1.5         0.2    0.0\n",
      "4          5.0         3.6          1.4         0.2    0.0\n",
      "\n",
      "   sepallength  sepalwidth  petallength  petalwidth  class  prediction  \\\n",
      "0          5.1         3.5          1.4         0.2    0.0    3.096570   \n",
      "1          4.9         3.0          1.4         0.2    0.0    3.108023   \n",
      "2          4.7         3.2          1.3         0.2    0.0    3.119477   \n",
      "3          4.6         3.1          1.5         0.2    0.0    3.125204   \n",
      "4          5.0         3.6          1.4         0.2    0.0    3.102296   \n",
      "\n",
      "   residuals  \n",
      "0   0.403430  \n",
      "1  -0.108023  \n",
      "2   0.080523  \n",
      "3  -0.025204  \n",
      "4   0.497704  \n",
      "\n",
      "2.22445858001\n"
     ]
    }
   ],
   "source": [
    "import openml\n",
    "apikey = 'a821c11980ba2c2b0ab578c51ed3ab66'\n",
    "openml.config.apikey = apikey\n",
    "\n",
    "import numpy as np\n",
    "import pandas as pd\n",
    "dataset_id = 61\n",
    "dataset = openml.datasets.get_dataset(dataset_id)\n",
    "X, cols = dataset.get_data(return_attribute_names=True)\n",
    "data = pd.DataFrame(X, columns = cols)\n",
    "print(data.head())\n",
    "print\n",
    "\n",
    "import matplotlib.pyplot as plt\n",
    "from sklearn.linear_model import LinearRegression\n",
    "from sklearn.metrics import mean_squared_error\n",
    "\n",
    "reg = LinearRegression()\n",
    "independent_var = ['sepallength']\n",
    "dependent_var = ['sepalwidth']\n",
    "reg.fit(data[independent_var], data[dependent_var])\n",
    "prediction = reg.predict(data[independent_var])\n",
    "data['prediction'] = prediction\n",
    "data['residuals'] = data['sepalwidth'] - data['prediction']\n",
    "print(data.head())\n",
    "\n",
    "RMSE = np.sqrt(mean_squared_error(y_true = data['class'], y_pred = data['prediction']))\n",
    "print\n",
    "print(RMSE)"
   ]
  },
  {
   "cell_type": "markdown",
   "metadata": {},
   "source": [
    "## Heteroscedasticity\n",
    "\n",
    "One of the assumptions required for linear regression is the errors have constant variance. This assumption is often violated when the variance of errors increases as data values increase (for example, on a plot of income vs. age, the variance of error in income could increase with age). This occurs when the model misses an underlying pattern. \n",
    "\n",
    "### Detecting Heteroscedasticity\n",
    "\n",
    "Heteroscedasticity is detected after a model is made by looking at a plot of the residuals vs the fitted model. If a random scatterplot appears, then the model has contant variance. If a pattern appears (usually a cone shape), then the model is heteroscedastic."
   ]
  },
  {
   "cell_type": "code",
   "execution_count": 2,
   "metadata": {
    "collapsed": false
   },
   "outputs": [
    {
     "data": {
      "image/png": "[encoded data removed]",
      "text/plain": [
       "<matplotlib.figure.Figure at 0x118484150>"
      ]
     },
     "metadata": {},
     "output_type": "display_data"
    },
    {
     "data": {
      "image/png": "[encoded data removed]",
      "text/plain": [
       "<matplotlib.figure.Figure at 0x1184df750>"
      ]
     },
     "metadata": {},
     "output_type": "display_data"
    }
   ],
   "source": [
    "# Using the same model as above, we can see there is constant variance\n",
    "plt.scatter(data['prediction'],data['residuals'])\n",
    "plt.xlabel('Predicted Value')\n",
    "plt.ylabel('Residual')\n",
    "plt.show()\n",
    "\n",
    "# Here is an example of car depreciation\n",
    "# Since the scatterplot has the cone shape, the model is heteroscedastic\n",
    "data2 = pd.DataFrame({'price' : pd.Series([25000,22750,20050,17050,14500,12250,10000,9000,40000,36400,32000,27600,23200,19600,16000,15000,30000,27300,24100,20500,17400,14700,12000,11000]),\n",
    "         'age' : pd.Series([0,0.01,1,2,3,4,5,6,0,0.01,1,2,3,4,5,6,0,0.01,1,2,3,4,5,6])})\n",
    "reg2 = LinearRegression()\n",
    "independent_var2 = ['age']\n",
    "dependent_var2 = ['price']\n",
    "reg2.fit(data2[independent_var2], data2[dependent_var2])\n",
    "prediction2 = reg2.predict(data2[independent_var2])\n",
    "data2['prediction'] = prediction2\n",
    "data2['residuals'] = data2['price'] - data2['prediction']\n",
    "plt.scatter(data2['prediction'],data2['residuals'])\n",
    "plt.xlabel('Predicted Value')\n",
    "plt.ylabel('Residual')\n",
    "plt.show()"
   ]
  },
  {
   "cell_type": "markdown",
   "metadata": {},
   "source": [
    "Another method is through a statistical test. Two such tests are the Breush Pagan Test and the NCV Test. Following traditional statics tests, the null hypothesis is the variance of residuals is constant. If the p-value is less than the significance threshold of 0.05, then the null hypothesis is rejected and the residuals are not constant."
   ]
  },
  {
   "cell_type": "markdown",
   "metadata": {},
   "source": [
    "### Rectifying Heteroscedasticity\n",
    "\n",
    "A **Box Cox Transform** is a method to normalize the residuals by outputting the option that best matches a normal curve. "
   ]
  },
  {
   "cell_type": "code",
   "execution_count": 3,
   "metadata": {
    "collapsed": false
   },
   "outputs": [
    {
     "name": "stdout",
     "output_type": "stream",
     "text": [
      "     age     price\n",
      "0   1.00  0.655070\n",
      "1   1.01  0.415202\n",
      "2   2.00  0.096909\n",
      "3   3.00 -0.306415\n",
      "4   4.00 -0.703982\n",
      "5   5.00 -1.111969\n",
      "6   6.00 -1.595228\n",
      "7   7.00 -1.842822\n",
      "8   1.00  1.879836\n",
      "9   1.01  1.630098\n",
      "10  2.00  1.292194\n",
      "11  3.00  0.908806\n",
      "12  4.00  0.464860\n",
      "13  5.00  0.040084\n",
      "14  6.00 -0.463060\n",
      "15  7.00 -0.621241\n",
      "16  1.00  1.124321\n",
      "17  1.01  0.880672\n",
      "18  2.00  0.561589\n",
      "19  3.00  0.152580\n",
      "20  4.00 -0.256157\n",
      "21  5.00 -0.670577\n",
      "22  6.00 -1.161455\n",
      "23  7.00 -1.369316\n"
     ]
    },
    {
     "data": {
      "image/png": "[encoded data removed]",
      "text/plain": [
       "<matplotlib.figure.Figure at 0x10a924e50>"
      ]
     },
     "metadata": {},
     "output_type": "display_data"
    }
   ],
   "source": [
    "#First we transform the data, then the scatterplot has no pattern\n",
    "from scipy.stats import boxcox\n",
    "from sklearn import preprocessing\n",
    "data3 = pd.DataFrame({'price' : pd.Series([25000,22750,20050,17050,14500,12250,10000,9000,40000,36400,32000,27600,23200,19600,16000,15000,30000,27300,24100,20500,17400,14700,12000,11000]),\n",
    "                                    'age' : pd.Series([1,1.01,2,3,4,5,6,7,1,1.01,2,3,4,5,6,7,1,1.01,2,3,4,5,6,7])})\n",
    "data3['price'] = preprocessing.scale(boxcox(data3['price'])[0])\n",
    "print(data3)\n",
    "\n",
    "reg3 = LinearRegression()\n",
    "reg3.fit(data3[independent_var2], data3[dependent_var2])\n",
    "data3['prediction'] = reg3.predict(data3[independent_var2])\n",
    "data3['residuals'] = data3['price'] - data3['prediction']\n",
    "plt.scatter(data3['prediction'],data3['residuals'])\n",
    "plt.xlabel('Predicted Value')\n",
    "plt.ylabel('Residual')\n",
    "plt.show()"
   ]
  },
  {
   "cell_type": "markdown",
   "metadata": {},
   "source": [
    "## Polynomial Regression\n",
    "\n",
    "In order for linear regression to perform as expected, the data must be **linear**. However in many cases, a regression model is ideal, but the prediction is better represented with an equation including $x^2$ or $x^3$. This is when **polynomial regression** is used instead. "
   ]
  },
  {
   "cell_type": "markdown",
   "metadata": {},
   "source": [
    "There are several types of regression that may be confused with one another. Logistic regression is used when the variable has two categorical values (like true or false) rather than numerical. Multinomial regression when the variable has more than two categorical values. Polynomial regression is used when the indepedent and dependent variable has a relationship best described with polynomial terms."
   ]
  },
  {
   "cell_type": "markdown",
   "metadata": {},
   "source": [
    "## Sources\n",
    "https://www.r-bloggers.com/how-to-detect-heteroscedasticity-and-rectify-it/\n",
    "\n",
    "https://www.safaribooksonline.com/library/view/statistics-in-a/9781449361129/ch11.html\n",
    "\n",
    "https://stats.stackexchange.com/questions/58739/polynomial-regression-using-scikit-learn"
   ]
  }
 ],
 "metadata": {
  "kernelspec": {
   "display_name": "Python 2",
   "language": "python",
   "name": "python2"
  },
  "language_info": {
   "codemirror_mode": {
    "name": "ipython",
    "version": 2
   },
   "file_extension": ".py",
   "mimetype": "text/x-python",
   "name": "python",
   "nbconvert_exporter": "python",
   "pygments_lexer": "ipython2",
   "version": "2.7.13"
  }
 },
 "nbformat": 4,
 "nbformat_minor": 2
}
