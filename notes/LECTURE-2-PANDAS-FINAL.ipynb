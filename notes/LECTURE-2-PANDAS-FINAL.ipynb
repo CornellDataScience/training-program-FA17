{
 "cells": [
  {
   "cell_type": "markdown",
   "metadata": {},
   "source": [
    "<p style=\"font-family: Arial; font-size:3.75em;color:purple; font-style:bold\"><br>\n",
    "Lecture 2: Pandas</p><br>\n",
    "\n",
    "Pandas is a primary data analysis library in Python. It offers a number of operations to aid in data exploration, cleaning and transformation, making it one of the most popular data science tools. To name a few examples of these operations, Pandas enables various methods to handle missing data and data pivoting, easy data sorting and description capabilities, fast generation of data plots, and Boolean indexing for fast image processing and other masking operations.\n",
    "\n",
    "Pandas makes use of two different data structures: Series and DataFrames. A series is a one-dimensional array-like object that act like ndarrays. They provide many ways to index data and support lots of data types. Because of their similarities to ndarrays, series' are valid arguments to most Numpy methods as well. A DataFrame is a two-dimensional flexible data structure that supports heterogeneous data with labeled axes for rows and columns. We think of DataFrames as containers for series objects, where each row is a series. It is these two incredibly important data structures that make Pandas so useful and well-liked.\n",
    "\n",
    "Some of the key features of Pandas are:\n",
    "* Ingestion and manipulation of heterogeneous data types\n",
    "* Generating descriptive statistics on data to support exploration and communication\n",
    "* Data cleaning using built in pandas functions\n",
    "* Frequent data operations for subsetting, filtering, insertion, deletion and aggregation of data\n",
    "* Merging and joining multiple datasets using dataframes\n",
    "* Working with timestamps and time-series data\n",
    "\n",
    "Pandas also builds upon numpy and other Python packages to provide easy-to-use data structures and data manipulation functions with integrated indexing.\n",
    "\n",
    "**Additional Recommended Resources:** \n",
    "* <a href=\"http://pandas.pydata.org/pandas-docs/stable/\">Pandas Documentation</a><br>\n",
    "* *Python for Data Analysis* by Wes McKinney\n",
    "* *Python Data Science Handbook* by Jake VanderPlas\n",
    "\n",
    "Now that you know a little background about Pandas, let's get started with some code!"
   ]
  },
  {
   "cell_type": "markdown",
   "metadata": {},
   "source": [
    "<p style=\"font-family: Arial; font-size:1.75em;color:#2462C0; font-style:bold\"><br>\n",
    "\n",
    "Importing the Pandas Library\n",
    "</p>"
   ]
  },
  {
   "cell_type": "markdown",
   "metadata": {},
   "source": [
    "As you saw in the Numpy notes, the \"as\" keyword in the import statement allows us to give a local name to the pandas package, so that we can refer to it as \"pd\" rather than \"pandas\" in subsequent code."
   ]
  },
  {
   "cell_type": "code",
   "execution_count": 220,
   "metadata": {
    "collapsed": true
   },
   "outputs": [],
   "source": [
    "import pandas as pd"
   ]
  },
  {
   "cell_type": "markdown",
   "metadata": {},
   "source": [
    "<p style=\"font-family: Arial; font-size:1.75em;color:#2462C0; font-style:bold\">\n",
    "Introduction to Pandas Data Structures</p>\n",
    "<br>\n",
    "Pandas uses two different data structures: Series and DataFrames. First, we will explore Series in the code below. \n",
    "\n",
    "<p style=\"font-family: Arial; font-size:1.75em;color:#2462C0; font-style:bold\">\n",
    "Series in Pandas</p>\n",
    "\n",
    "Pandas Series are one-dimensional labeled arrays. They act like ndarrays, so are valid arguments to most Numpy methods because of their similarities. Series support many data types, including integers, strings, floating point numbers,\n",
    "Python objects, etc., as a part of the array. Their axis labels are collectively referred to as the index, and we can get and set values by these index labels. You can think of a Series as a flexible dictionary-like object.\n",
    "\n",
    "In the following code, we explore the following methods associated with Series:\n",
    "\n",
    "**pd.Series([data elements], [index elements])** creates a Series object with the elements specified between the brackets (data in the first set of brackets, indices in the second). Note that the elements in the data set and the index set do not have to be of the same data type. For example, your data set could look something like ['foo', 12, 19.8], and your index set could look like [99.0, 'bar', 3].\n",
    "\n",
    "**nameOfSeries.index** returns a list of the indices in the Series.\n",
    "\n",
    "(a) **nameOfSeries.loc[index]** OR (b) **nameOfSeries.loc[[indices]]** returns (a) the data at the specified index or (b) the data and their indices at the specified indices.\n",
    "\n",
    "(a) **nameOfSeries.iloc[position]** OR (b) **nameOfSeries.iloc[[positions]]** returns (a) the data at the specified position in the data list or (b) the data and their indices at the specified positions of the data list.\n",
    "\n",
    "*index* **in** *nameOfSeries* returns a boolean value of whether or not the index is in the Series."
   ]
  },
  {
   "cell_type": "code",
   "execution_count": 221,
   "metadata": {
    "collapsed": true
   },
   "outputs": [],
   "source": [
    "# create a Series called sr\n",
    "sr = pd.Series([10, 'foo', 30, 90.4], ['peach', 'plum', 'dog', 'band'])"
   ]
  },
  {
   "cell_type": "code",
   "execution_count": 222,
   "metadata": {
    "collapsed": false
   },
   "outputs": [
    {
     "data": {
      "text/plain": [
       "peach      10\n",
       "plum      foo\n",
       "dog        30\n",
       "band     90.4\n",
       "dtype: object"
      ]
     },
     "execution_count": 222,
     "metadata": {},
     "output_type": "execute_result"
    }
   ],
   "source": [
    "# view the Series\n",
    "sr"
   ]
  },
  {
   "cell_type": "code",
   "execution_count": 223,
   "metadata": {
    "collapsed": false
   },
   "outputs": [
    {
     "data": {
      "text/plain": [
       "Index(['peach', 'plum', 'dog', 'band'], dtype='object')"
      ]
     },
     "execution_count": 223,
     "metadata": {},
     "output_type": "execute_result"
    }
   ],
   "source": [
    "# view the indices\n",
    "sr.index"
   ]
  },
  {
   "cell_type": "code",
   "execution_count": 224,
   "metadata": {
    "collapsed": false
   },
   "outputs": [
    {
     "data": {
      "text/plain": [
       "'foo'"
      ]
     },
     "execution_count": 224,
     "metadata": {},
     "output_type": "execute_result"
    }
   ],
   "source": [
    "# access the data at an index\n",
    "sr['plum']"
   ]
  },
  {
   "cell_type": "code",
   "execution_count": 225,
   "metadata": {
    "collapsed": false
   },
   "outputs": [
    {
     "data": {
      "text/plain": [
       "'foo'"
      ]
     },
     "execution_count": 225,
     "metadata": {},
     "output_type": "execute_result"
    }
   ],
   "source": [
    "# OR\n",
    "sr.loc['plum']"
   ]
  },
  {
   "cell_type": "code",
   "execution_count": 226,
   "metadata": {
    "collapsed": false
   },
   "outputs": [
    {
     "data": {
      "text/plain": [
       "peach      10\n",
       "band     90.4\n",
       "dtype: object"
      ]
     },
     "execution_count": 226,
     "metadata": {},
     "output_type": "execute_result"
    }
   ],
   "source": [
    "# access the data at multiple indices\n",
    "sr[['peach', 'band']]"
   ]
  },
  {
   "cell_type": "code",
   "execution_count": 227,
   "metadata": {
    "collapsed": false
   },
   "outputs": [
    {
     "data": {
      "text/plain": [
       "peach      10\n",
       "band     90.4\n",
       "dtype: object"
      ]
     },
     "execution_count": 227,
     "metadata": {},
     "output_type": "execute_result"
    }
   ],
   "source": [
    "# OR\n",
    "sr.loc[['peach', 'band']]"
   ]
  },
  {
   "cell_type": "markdown",
   "metadata": {},
   "source": [
    "You can see that the data is represented so that you can access it like a list with numeric indices (list[x]) or more like a dictionary (dic['key']). "
   ]
  },
  {
   "cell_type": "code",
   "execution_count": 228,
   "metadata": {
    "collapsed": false
   },
   "outputs": [
    {
     "data": {
      "text/plain": [
       "30"
      ]
     },
     "execution_count": 228,
     "metadata": {},
     "output_type": "execute_result"
    }
   ],
   "source": [
    "# access a data element by position in the list\n",
    "sr[2]"
   ]
  },
  {
   "cell_type": "code",
   "execution_count": 229,
   "metadata": {
    "collapsed": false
   },
   "outputs": [
    {
     "data": {
      "text/plain": [
       "30"
      ]
     },
     "execution_count": 229,
     "metadata": {},
     "output_type": "execute_result"
    }
   ],
   "source": [
    "# OR\n",
    "sr.iloc[2]"
   ]
  },
  {
   "cell_type": "code",
   "execution_count": 230,
   "metadata": {
    "collapsed": false
   },
   "outputs": [
    {
     "data": {
      "text/plain": [
       "peach     10\n",
       "plum     foo\n",
       "dog       30\n",
       "dtype: object"
      ]
     },
     "execution_count": 230,
     "metadata": {},
     "output_type": "execute_result"
    }
   ],
   "source": [
    "# access multiple data elements by positions in the list\n",
    "sr[[0, 1, 2]]"
   ]
  },
  {
   "cell_type": "code",
   "execution_count": 231,
   "metadata": {
    "collapsed": false
   },
   "outputs": [
    {
     "data": {
      "text/plain": [
       "plum     foo\n",
       "dog       30\n",
       "band    90.4\n",
       "dtype: object"
      ]
     },
     "execution_count": 231,
     "metadata": {},
     "output_type": "execute_result"
    }
   ],
   "source": [
    "# OR\n",
    "sr.iloc[[1, 2, 3]]"
   ]
  },
  {
   "cell_type": "code",
   "execution_count": 232,
   "metadata": {
    "collapsed": false
   },
   "outputs": [
    {
     "data": {
      "text/plain": [
       "True"
      ]
     },
     "execution_count": 232,
     "metadata": {},
     "output_type": "execute_result"
    }
   ],
   "source": [
    "# is the index 'peach' in the Series?\n",
    "'peach' in sr\n"
   ]
  },
  {
   "cell_type": "markdown",
   "metadata": {},
   "source": [
    "We can also use basic Python operations like multiplication on a Series. In the code below, we multiply the whole Series by 2. Note that this operation is performed on all data types, even strings, where the string is doubled."
   ]
  },
  {
   "cell_type": "code",
   "execution_count": 233,
   "metadata": {
    "collapsed": false
   },
   "outputs": [
    {
     "data": {
      "text/plain": [
       "peach        20\n",
       "plum     foofoo\n",
       "dog          60\n",
       "band      180.8\n",
       "dtype: object"
      ]
     },
     "execution_count": 233,
     "metadata": {},
     "output_type": "execute_result"
    }
   ],
   "source": [
    "sr * 2"
   ]
  },
  {
   "cell_type": "markdown",
   "metadata": {},
   "source": [
    "We can square the numerical index values in a Series. If we tried to square an index that's not a numeric data type, however, we would get an error."
   ]
  },
  {
   "cell_type": "code",
   "execution_count": 234,
   "metadata": {
    "collapsed": false
   },
   "outputs": [
    {
     "data": {
      "text/plain": [
       "peach        100\n",
       "band     8172.16\n",
       "dtype: object"
      ]
     },
     "execution_count": 234,
     "metadata": {},
     "output_type": "execute_result"
    }
   ],
   "source": [
    "sr[['peach', 'band']] ** 2"
   ]
  },
  {
   "cell_type": "markdown",
   "metadata": {},
   "source": [
    "<p style=\"font-family: Arial; font-size:1.75em;color:#2462C0; font-style:bold\">\n",
    "DataFrames in Pandas</p>\n",
    "\n",
    "Pandas DataFrames are flexible 2-dimensional labeled data structures. They also support heterogeneous data and have labeled axes for rows and columns. We can think of a DataFrame as a container for Series objects, where each row is a Series.\n",
    "\n",
    "Let's look at an example!"
   ]
  },
  {
   "cell_type": "markdown",
   "metadata": {},
   "source": [
    "<p style=\"font-family: Arial; font-size:1.25em;color:#2462C0; font-style:bold\">\n",
    "Creating a DataFrame</p>\n",
    "\n",
    "There are many ways to create Pandas DataFrames. We often just read and ingest data into a data frame, but in this example, we create the DataFrame manually by starting with a dictionary of Series. Note that we are adding another dimensions to our data structure, so we need to label each Series. Here, we label the first Series 'a' and the second 'b'."
   ]
  },
  {
   "cell_type": "code",
   "execution_count": 235,
   "metadata": {
    "collapsed": true
   },
   "outputs": [],
   "source": [
    "# create a dictionary called df_data\n",
    "df_data = {'a' : pd.Series([1., 2., 3., 4.], index=['dog', 'cat', 'fruit', 'bird']),\n",
    "     'b' : pd.Series([10., 20., 30.], index=['cake', 'fruit', 'ice cream'])}"
   ]
  },
  {
   "cell_type": "markdown",
   "metadata": {},
   "source": [
    "We then use the following methods to create and explore the DataFrame:\n",
    "\n",
    "**pandas.DataFrame(data)** creates a DataFrame out of the specified data. This data can be provided in the form of a Numpy ndarray, a Python dictionary, or another DataFrame. There are other parameters in this method, so we advise you to check out the <a href=\"https://pandas.pydata.org/pandas-docs/stable/generated/pandas.DataFrame.html\">DataFrame Documentation</a>.\n",
    "\n",
    "**nameOfDataFrame.index** returns a list of all of the unique indices in the Data Frame.\n",
    "\n",
    "**nameOfDataFrame.columns** returns a list of the names of the Series, or columns, that make up the DataFrame."
   ]
  },
  {
   "cell_type": "code",
   "execution_count": 236,
   "metadata": {
    "collapsed": false
   },
   "outputs": [
    {
     "data": {
      "text/html": [
       "<div>\n",
       "<style>\n",
       "    .dataframe thead tr:only-child th {\n",
       "        text-align: right;\n",
       "    }\n",
       "\n",
       "    .dataframe thead th {\n",
       "        text-align: left;\n",
       "    }\n",
       "\n",
       "    .dataframe tbody tr th {\n",
       "        vertical-align: top;\n",
       "    }\n",
       "</style>\n",
       "<table border=\"1\" class=\"dataframe\">\n",
       "  <thead>\n",
       "    <tr style=\"text-align: right;\">\n",
       "      <th></th>\n",
       "      <th>a</th>\n",
       "      <th>b</th>\n",
       "    </tr>\n",
       "  </thead>\n",
       "  <tbody>\n",
       "    <tr>\n",
       "      <th>bird</th>\n",
       "      <td>4.0</td>\n",
       "      <td>NaN</td>\n",
       "    </tr>\n",
       "    <tr>\n",
       "      <th>cake</th>\n",
       "      <td>NaN</td>\n",
       "      <td>10.0</td>\n",
       "    </tr>\n",
       "    <tr>\n",
       "      <th>cat</th>\n",
       "      <td>2.0</td>\n",
       "      <td>NaN</td>\n",
       "    </tr>\n",
       "    <tr>\n",
       "      <th>dog</th>\n",
       "      <td>1.0</td>\n",
       "      <td>NaN</td>\n",
       "    </tr>\n",
       "    <tr>\n",
       "      <th>fruit</th>\n",
       "      <td>3.0</td>\n",
       "      <td>20.0</td>\n",
       "    </tr>\n",
       "    <tr>\n",
       "      <th>ice cream</th>\n",
       "      <td>NaN</td>\n",
       "      <td>30.0</td>\n",
       "    </tr>\n",
       "  </tbody>\n",
       "</table>\n",
       "</div>"
      ],
      "text/plain": [
       "             a     b\n",
       "bird       4.0   NaN\n",
       "cake       NaN  10.0\n",
       "cat        2.0   NaN\n",
       "dog        1.0   NaN\n",
       "fruit      3.0  20.0\n",
       "ice cream  NaN  30.0"
      ]
     },
     "execution_count": 236,
     "metadata": {},
     "output_type": "execute_result"
    }
   ],
   "source": [
    "# create and output the DataFrame\n",
    "df = pd.DataFrame(df_data)\n",
    "df"
   ]
  },
  {
   "cell_type": "markdown",
   "metadata": {},
   "source": [
    "Series 'a' and 'b' don't share the all of same indices. When we print the DataFrame, we see NaN values, which indicate that the Series does not contain a certain index. "
   ]
  },
  {
   "cell_type": "code",
   "execution_count": 237,
   "metadata": {
    "collapsed": false
   },
   "outputs": [
    {
     "data": {
      "text/plain": [
       "Index(['bird', 'cake', 'cat', 'dog', 'fruit', 'ice cream'], dtype='object')"
      ]
     },
     "execution_count": 237,
     "metadata": {},
     "output_type": "execute_result"
    }
   ],
   "source": [
    "df.index"
   ]
  },
  {
   "cell_type": "code",
   "execution_count": 238,
   "metadata": {
    "collapsed": false
   },
   "outputs": [
    {
     "data": {
      "text/plain": [
       "Index(['a', 'b'], dtype='object')"
      ]
     },
     "execution_count": 238,
     "metadata": {},
     "output_type": "execute_result"
    }
   ],
   "source": [
    "df.columns"
   ]
  },
  {
   "cell_type": "markdown",
   "metadata": {},
   "source": [
    "We can also create a smaller DataFrame using a subset of the same data,  this time specifying which indices we want to be included."
   ]
  },
  {
   "cell_type": "code",
   "execution_count": 239,
   "metadata": {
    "collapsed": false
   },
   "outputs": [
    {
     "data": {
      "text/html": [
       "<div>\n",
       "<style>\n",
       "    .dataframe thead tr:only-child th {\n",
       "        text-align: right;\n",
       "    }\n",
       "\n",
       "    .dataframe thead th {\n",
       "        text-align: left;\n",
       "    }\n",
       "\n",
       "    .dataframe tbody tr th {\n",
       "        vertical-align: top;\n",
       "    }\n",
       "</style>\n",
       "<table border=\"1\" class=\"dataframe\">\n",
       "  <thead>\n",
       "    <tr style=\"text-align: right;\">\n",
       "      <th></th>\n",
       "      <th>a</th>\n",
       "      <th>b</th>\n",
       "    </tr>\n",
       "  </thead>\n",
       "  <tbody>\n",
       "    <tr>\n",
       "      <th>dog</th>\n",
       "      <td>1.0</td>\n",
       "      <td>NaN</td>\n",
       "    </tr>\n",
       "    <tr>\n",
       "      <th>fruit</th>\n",
       "      <td>3.0</td>\n",
       "      <td>20.0</td>\n",
       "    </tr>\n",
       "    <tr>\n",
       "      <th>bird</th>\n",
       "      <td>4.0</td>\n",
       "      <td>NaN</td>\n",
       "    </tr>\n",
       "  </tbody>\n",
       "</table>\n",
       "</div>"
      ],
      "text/plain": [
       "         a     b\n",
       "dog    1.0   NaN\n",
       "fruit  3.0  20.0\n",
       "bird   4.0   NaN"
      ]
     },
     "execution_count": 239,
     "metadata": {},
     "output_type": "execute_result"
    }
   ],
   "source": [
    "pd.DataFrame(df_data, index=['dog', 'fruit', 'bird'])"
   ]
  },
  {
   "cell_type": "markdown",
   "metadata": {},
   "source": [
    "By specifying the column parameter, you can select which columns you'd like the new DataFrame to include. In the code below, we ask the DataFrame to include column 'e', which doesn't exist in the original dictionary. Because of this, a new column 'e' will be created with all its entries as NaN."
   ]
  },
  {
   "cell_type": "code",
   "execution_count": 240,
   "metadata": {
    "collapsed": false
   },
   "outputs": [
    {
     "data": {
      "text/html": [
       "<div>\n",
       "<style>\n",
       "    .dataframe thead tr:only-child th {\n",
       "        text-align: right;\n",
       "    }\n",
       "\n",
       "    .dataframe thead th {\n",
       "        text-align: left;\n",
       "    }\n",
       "\n",
       "    .dataframe tbody tr th {\n",
       "        vertical-align: top;\n",
       "    }\n",
       "</style>\n",
       "<table border=\"1\" class=\"dataframe\">\n",
       "  <thead>\n",
       "    <tr style=\"text-align: right;\">\n",
       "      <th></th>\n",
       "      <th>a</th>\n",
       "      <th>e</th>\n",
       "    </tr>\n",
       "  </thead>\n",
       "  <tbody>\n",
       "    <tr>\n",
       "      <th>dog</th>\n",
       "      <td>1.0</td>\n",
       "      <td>NaN</td>\n",
       "    </tr>\n",
       "    <tr>\n",
       "      <th>fruit</th>\n",
       "      <td>3.0</td>\n",
       "      <td>NaN</td>\n",
       "    </tr>\n",
       "    <tr>\n",
       "      <th>bird</th>\n",
       "      <td>4.0</td>\n",
       "      <td>NaN</td>\n",
       "    </tr>\n",
       "  </tbody>\n",
       "</table>\n",
       "</div>"
      ],
      "text/plain": [
       "         a    e\n",
       "dog    1.0  NaN\n",
       "fruit  3.0  NaN\n",
       "bird   4.0  NaN"
      ]
     },
     "execution_count": 240,
     "metadata": {},
     "output_type": "execute_result"
    }
   ],
   "source": [
    "pd.DataFrame(df_data, index=['dog', 'fruit', 'bird'], columns=['a', 'e'])"
   ]
  },
  {
   "cell_type": "markdown",
   "metadata": {},
   "source": [
    "<p style=\"font-family: Arial; font-size:1.25em;color:#2462C0; font-style:bold\">\n",
    "Creating a DataFrame from a list of Python dictionaries</p>\n",
    "\n",
    "Another way to create a DataFrame is to use a list of Python dictionaries as your data. In the code below, we create a list of Python dictionaries called 'df_data2' and use this to make a DataFrame called 'df2'. We then use many of the same techniques as above to explore the DataFrame.\n",
    "\n",
    "Please see <a href=\"https://docs.python.org/3/tutorial/datastructures.html#dictionaries\">this link</a> for a reminder on Python dictionaries."
   ]
  },
  {
   "cell_type": "code",
   "execution_count": 241,
   "metadata": {
    "collapsed": true
   },
   "outputs": [],
   "source": [
    "# create a Python dictionary\n",
    "\n",
    "df_data2 = [{'apple': 5, 'cherry': 10}, {'peter': 1, 'emily': 2, 'brian': 6}]"
   ]
  },
  {
   "cell_type": "code",
   "execution_count": 242,
   "metadata": {
    "collapsed": false
   },
   "outputs": [
    {
     "data": {
      "text/html": [
       "<div>\n",
       "<style>\n",
       "    .dataframe thead tr:only-child th {\n",
       "        text-align: right;\n",
       "    }\n",
       "\n",
       "    .dataframe thead th {\n",
       "        text-align: left;\n",
       "    }\n",
       "\n",
       "    .dataframe tbody tr th {\n",
       "        vertical-align: top;\n",
       "    }\n",
       "</style>\n",
       "<table border=\"1\" class=\"dataframe\">\n",
       "  <thead>\n",
       "    <tr style=\"text-align: right;\">\n",
       "      <th></th>\n",
       "      <th>apple</th>\n",
       "      <th>brian</th>\n",
       "      <th>cherry</th>\n",
       "      <th>emily</th>\n",
       "      <th>peter</th>\n",
       "    </tr>\n",
       "  </thead>\n",
       "  <tbody>\n",
       "    <tr>\n",
       "      <th>0</th>\n",
       "      <td>5.0</td>\n",
       "      <td>NaN</td>\n",
       "      <td>10.0</td>\n",
       "      <td>NaN</td>\n",
       "      <td>NaN</td>\n",
       "    </tr>\n",
       "    <tr>\n",
       "      <th>1</th>\n",
       "      <td>NaN</td>\n",
       "      <td>6.0</td>\n",
       "      <td>NaN</td>\n",
       "      <td>2.0</td>\n",
       "      <td>1.0</td>\n",
       "    </tr>\n",
       "  </tbody>\n",
       "</table>\n",
       "</div>"
      ],
      "text/plain": [
       "   apple  brian  cherry  emily  peter\n",
       "0    5.0    NaN    10.0    NaN    NaN\n",
       "1    NaN    6.0     NaN    2.0    1.0"
      ]
     },
     "execution_count": 242,
     "metadata": {},
     "output_type": "execute_result"
    }
   ],
   "source": [
    "# labels get created as column headers\n",
    "\n",
    "pd.DataFrame(df_data2)"
   ]
  },
  {
   "cell_type": "code",
   "execution_count": 243,
   "metadata": {
    "collapsed": false
   },
   "outputs": [
    {
     "data": {
      "text/html": [
       "<div>\n",
       "<style>\n",
       "    .dataframe thead tr:only-child th {\n",
       "        text-align: right;\n",
       "    }\n",
       "\n",
       "    .dataframe thead th {\n",
       "        text-align: left;\n",
       "    }\n",
       "\n",
       "    .dataframe tbody tr th {\n",
       "        vertical-align: top;\n",
       "    }\n",
       "</style>\n",
       "<table border=\"1\" class=\"dataframe\">\n",
       "  <thead>\n",
       "    <tr style=\"text-align: right;\">\n",
       "      <th></th>\n",
       "      <th>apple</th>\n",
       "      <th>brian</th>\n",
       "      <th>cherry</th>\n",
       "      <th>emily</th>\n",
       "      <th>peter</th>\n",
       "    </tr>\n",
       "  </thead>\n",
       "  <tbody>\n",
       "    <tr>\n",
       "      <th>blue</th>\n",
       "      <td>5.0</td>\n",
       "      <td>NaN</td>\n",
       "      <td>10.0</td>\n",
       "      <td>NaN</td>\n",
       "      <td>NaN</td>\n",
       "    </tr>\n",
       "    <tr>\n",
       "      <th>yellow</th>\n",
       "      <td>NaN</td>\n",
       "      <td>6.0</td>\n",
       "      <td>NaN</td>\n",
       "      <td>2.0</td>\n",
       "      <td>1.0</td>\n",
       "    </tr>\n",
       "  </tbody>\n",
       "</table>\n",
       "</div>"
      ],
      "text/plain": [
       "        apple  brian  cherry  emily  peter\n",
       "blue      5.0    NaN    10.0    NaN    NaN\n",
       "yellow    NaN    6.0     NaN    2.0    1.0"
      ]
     },
     "execution_count": 243,
     "metadata": {},
     "output_type": "execute_result"
    }
   ],
   "source": [
    "# rename the rows from 0 and 1 to 'blue' and 'yellow' by specifying the index parameter\n",
    "\n",
    "pd.DataFrame(df_data2, index=['blue', 'yellow'])"
   ]
  },
  {
   "cell_type": "code",
   "execution_count": 244,
   "metadata": {
    "collapsed": false
   },
   "outputs": [
    {
     "data": {
      "text/html": [
       "<div>\n",
       "<style>\n",
       "    .dataframe thead tr:only-child th {\n",
       "        text-align: right;\n",
       "    }\n",
       "\n",
       "    .dataframe thead th {\n",
       "        text-align: left;\n",
       "    }\n",
       "\n",
       "    .dataframe tbody tr th {\n",
       "        vertical-align: top;\n",
       "    }\n",
       "</style>\n",
       "<table border=\"1\" class=\"dataframe\">\n",
       "  <thead>\n",
       "    <tr style=\"text-align: right;\">\n",
       "      <th></th>\n",
       "      <th>cherry</th>\n",
       "      <th>emily</th>\n",
       "      <th>brian</th>\n",
       "    </tr>\n",
       "  </thead>\n",
       "  <tbody>\n",
       "    <tr>\n",
       "      <th>0</th>\n",
       "      <td>10.0</td>\n",
       "      <td>NaN</td>\n",
       "      <td>NaN</td>\n",
       "    </tr>\n",
       "    <tr>\n",
       "      <th>1</th>\n",
       "      <td>NaN</td>\n",
       "      <td>2.0</td>\n",
       "      <td>6.0</td>\n",
       "    </tr>\n",
       "  </tbody>\n",
       "</table>\n",
       "</div>"
      ],
      "text/plain": [
       "   cherry  emily  brian\n",
       "0    10.0    NaN    NaN\n",
       "1     NaN    2.0    6.0"
      ]
     },
     "execution_count": 244,
     "metadata": {},
     "output_type": "execute_result"
    }
   ],
   "source": [
    "# create a smaller DataFrame by specifying the columns\n",
    "\n",
    "pd.DataFrame(df_data2, columns=['cherry', 'emily','brian'])"
   ]
  },
  {
   "cell_type": "markdown",
   "metadata": {},
   "source": [
    "<p style=\"font-family: Arial; font-size:1.25em;color:#2462C0; font-style:bold\">\n",
    "Exploring some basic DataFrame operations</p>\n",
    "\n",
    "Now let's look into how we can get data out of a DataFrame with some basic DataFrame operations. In the following code, we will use these DataFrame methods:\n",
    "\n",
    "**nameOfDataFrame.pop(columnName)** removes and returns the specified column from the DataFrame. If you want to save the popped column, you must store it as a new variable.\n",
    "\n",
    "**del** *nameOfDataFrame[columnName]* deletes a column from a DataFrame permanently.\n",
    "\n",
    "**nameOfDataFrame.insert(location, newColumnName, values)** inserts a column with specified name into the DataFrame at the specified location with specified values."
   ]
  },
  {
   "cell_type": "code",
   "execution_count": 245,
   "metadata": {
    "collapsed": false
   },
   "outputs": [
    {
     "data": {
      "text/html": [
       "<div>\n",
       "<style>\n",
       "    .dataframe thead tr:only-child th {\n",
       "        text-align: right;\n",
       "    }\n",
       "\n",
       "    .dataframe thead th {\n",
       "        text-align: left;\n",
       "    }\n",
       "\n",
       "    .dataframe tbody tr th {\n",
       "        vertical-align: top;\n",
       "    }\n",
       "</style>\n",
       "<table border=\"1\" class=\"dataframe\">\n",
       "  <thead>\n",
       "    <tr style=\"text-align: right;\">\n",
       "      <th></th>\n",
       "      <th>a</th>\n",
       "      <th>b</th>\n",
       "    </tr>\n",
       "  </thead>\n",
       "  <tbody>\n",
       "    <tr>\n",
       "      <th>bird</th>\n",
       "      <td>4.0</td>\n",
       "      <td>NaN</td>\n",
       "    </tr>\n",
       "    <tr>\n",
       "      <th>cake</th>\n",
       "      <td>NaN</td>\n",
       "      <td>10.0</td>\n",
       "    </tr>\n",
       "    <tr>\n",
       "      <th>cat</th>\n",
       "      <td>2.0</td>\n",
       "      <td>NaN</td>\n",
       "    </tr>\n",
       "    <tr>\n",
       "      <th>dog</th>\n",
       "      <td>1.0</td>\n",
       "      <td>NaN</td>\n",
       "    </tr>\n",
       "    <tr>\n",
       "      <th>fruit</th>\n",
       "      <td>3.0</td>\n",
       "      <td>20.0</td>\n",
       "    </tr>\n",
       "    <tr>\n",
       "      <th>ice cream</th>\n",
       "      <td>NaN</td>\n",
       "      <td>30.0</td>\n",
       "    </tr>\n",
       "  </tbody>\n",
       "</table>\n",
       "</div>"
      ],
      "text/plain": [
       "             a     b\n",
       "bird       4.0   NaN\n",
       "cake       NaN  10.0\n",
       "cat        2.0   NaN\n",
       "dog        1.0   NaN\n",
       "fruit      3.0  20.0\n",
       "ice cream  NaN  30.0"
      ]
     },
     "execution_count": 245,
     "metadata": {},
     "output_type": "execute_result"
    }
   ],
   "source": [
    "df"
   ]
  },
  {
   "cell_type": "code",
   "execution_count": 246,
   "metadata": {
    "collapsed": false
   },
   "outputs": [
    {
     "data": {
      "text/plain": [
       "bird         4.0\n",
       "cake         NaN\n",
       "cat          2.0\n",
       "dog          1.0\n",
       "fruit        3.0\n",
       "ice cream    NaN\n",
       "Name: a, dtype: float64"
      ]
     },
     "execution_count": 246,
     "metadata": {},
     "output_type": "execute_result"
    }
   ],
   "source": [
    "# display only column 'a' of the DataFrame\n",
    "\n",
    "df['a']"
   ]
  },
  {
   "cell_type": "code",
   "execution_count": 247,
   "metadata": {
    "collapsed": false
   },
   "outputs": [
    {
     "data": {
      "text/html": [
       "<div>\n",
       "<style>\n",
       "    .dataframe thead tr:only-child th {\n",
       "        text-align: right;\n",
       "    }\n",
       "\n",
       "    .dataframe thead th {\n",
       "        text-align: left;\n",
       "    }\n",
       "\n",
       "    .dataframe tbody tr th {\n",
       "        vertical-align: top;\n",
       "    }\n",
       "</style>\n",
       "<table border=\"1\" class=\"dataframe\">\n",
       "  <thead>\n",
       "    <tr style=\"text-align: right;\">\n",
       "      <th></th>\n",
       "      <th>a</th>\n",
       "      <th>b</th>\n",
       "      <th>c</th>\n",
       "    </tr>\n",
       "  </thead>\n",
       "  <tbody>\n",
       "    <tr>\n",
       "      <th>bird</th>\n",
       "      <td>4.0</td>\n",
       "      <td>NaN</td>\n",
       "      <td>NaN</td>\n",
       "    </tr>\n",
       "    <tr>\n",
       "      <th>cake</th>\n",
       "      <td>NaN</td>\n",
       "      <td>10.0</td>\n",
       "      <td>NaN</td>\n",
       "    </tr>\n",
       "    <tr>\n",
       "      <th>cat</th>\n",
       "      <td>2.0</td>\n",
       "      <td>NaN</td>\n",
       "      <td>NaN</td>\n",
       "    </tr>\n",
       "    <tr>\n",
       "      <th>dog</th>\n",
       "      <td>1.0</td>\n",
       "      <td>NaN</td>\n",
       "      <td>NaN</td>\n",
       "    </tr>\n",
       "    <tr>\n",
       "      <th>fruit</th>\n",
       "      <td>3.0</td>\n",
       "      <td>20.0</td>\n",
       "      <td>23.0</td>\n",
       "    </tr>\n",
       "    <tr>\n",
       "      <th>ice cream</th>\n",
       "      <td>NaN</td>\n",
       "      <td>30.0</td>\n",
       "      <td>NaN</td>\n",
       "    </tr>\n",
       "  </tbody>\n",
       "</table>\n",
       "</div>"
      ],
      "text/plain": [
       "             a     b     c\n",
       "bird       4.0   NaN   NaN\n",
       "cake       NaN  10.0   NaN\n",
       "cat        2.0   NaN   NaN\n",
       "dog        1.0   NaN   NaN\n",
       "fruit      3.0  20.0  23.0\n",
       "ice cream  NaN  30.0   NaN"
      ]
     },
     "execution_count": 247,
     "metadata": {},
     "output_type": "execute_result"
    }
   ],
   "source": [
    "# create a new column 'c' by adding 'a' and 'b' together\n",
    "\n",
    "df['c'] = df['a'] + df['b']\n",
    "df"
   ]
  },
  {
   "cell_type": "markdown",
   "metadata": {},
   "source": [
    "Note that since NaN values cannot be added to floating point values, the resulting values in 'c' are NaN. For index 'fruit', however, both 'a' and 'b' are floating point values and can be added together."
   ]
  },
  {
   "cell_type": "code",
   "execution_count": 248,
   "metadata": {
    "collapsed": false
   },
   "outputs": [
    {
     "data": {
      "text/html": [
       "<div>\n",
       "<style>\n",
       "    .dataframe thead tr:only-child th {\n",
       "        text-align: right;\n",
       "    }\n",
       "\n",
       "    .dataframe thead th {\n",
       "        text-align: left;\n",
       "    }\n",
       "\n",
       "    .dataframe tbody tr th {\n",
       "        vertical-align: top;\n",
       "    }\n",
       "</style>\n",
       "<table border=\"1\" class=\"dataframe\">\n",
       "  <thead>\n",
       "    <tr style=\"text-align: right;\">\n",
       "      <th></th>\n",
       "      <th>a</th>\n",
       "      <th>b</th>\n",
       "      <th>c</th>\n",
       "      <th>d</th>\n",
       "    </tr>\n",
       "  </thead>\n",
       "  <tbody>\n",
       "    <tr>\n",
       "      <th>bird</th>\n",
       "      <td>4.0</td>\n",
       "      <td>NaN</td>\n",
       "      <td>NaN</td>\n",
       "      <td>True</td>\n",
       "    </tr>\n",
       "    <tr>\n",
       "      <th>cake</th>\n",
       "      <td>NaN</td>\n",
       "      <td>10.0</td>\n",
       "      <td>NaN</td>\n",
       "      <td>False</td>\n",
       "    </tr>\n",
       "    <tr>\n",
       "      <th>cat</th>\n",
       "      <td>2.0</td>\n",
       "      <td>NaN</td>\n",
       "      <td>NaN</td>\n",
       "      <td>False</td>\n",
       "    </tr>\n",
       "    <tr>\n",
       "      <th>dog</th>\n",
       "      <td>1.0</td>\n",
       "      <td>NaN</td>\n",
       "      <td>NaN</td>\n",
       "      <td>False</td>\n",
       "    </tr>\n",
       "    <tr>\n",
       "      <th>fruit</th>\n",
       "      <td>3.0</td>\n",
       "      <td>20.0</td>\n",
       "      <td>23.0</td>\n",
       "      <td>True</td>\n",
       "    </tr>\n",
       "    <tr>\n",
       "      <th>ice cream</th>\n",
       "      <td>NaN</td>\n",
       "      <td>30.0</td>\n",
       "      <td>NaN</td>\n",
       "      <td>False</td>\n",
       "    </tr>\n",
       "  </tbody>\n",
       "</table>\n",
       "</div>"
      ],
      "text/plain": [
       "             a     b     c      d\n",
       "bird       4.0   NaN   NaN   True\n",
       "cake       NaN  10.0   NaN  False\n",
       "cat        2.0   NaN   NaN  False\n",
       "dog        1.0   NaN   NaN  False\n",
       "fruit      3.0  20.0  23.0   True\n",
       "ice cream  NaN  30.0   NaN  False"
      ]
     },
     "execution_count": 248,
     "metadata": {},
     "output_type": "execute_result"
    }
   ],
   "source": [
    "# create a new column 'd' of boolean values indicating whether or not an index's value in 'a' is greater than 2.0\n",
    "# NaN values evaluate to False\n",
    "\n",
    "df['d'] = df['a'] > 2.0\n",
    "df"
   ]
  },
  {
   "cell_type": "code",
   "execution_count": 249,
   "metadata": {
    "collapsed": true
   },
   "outputs": [],
   "source": [
    "# set cee equal to the 'c' column in the DataFrame\n",
    "\n",
    "cee = df.pop('c')"
   ]
  },
  {
   "cell_type": "code",
   "execution_count": 250,
   "metadata": {
    "collapsed": false
   },
   "outputs": [
    {
     "data": {
      "text/plain": [
       "bird          NaN\n",
       "cake          NaN\n",
       "cat           NaN\n",
       "dog           NaN\n",
       "fruit        23.0\n",
       "ice cream     NaN\n",
       "Name: c, dtype: float64"
      ]
     },
     "execution_count": 250,
     "metadata": {},
     "output_type": "execute_result"
    }
   ],
   "source": [
    "cee"
   ]
  },
  {
   "cell_type": "code",
   "execution_count": 251,
   "metadata": {
    "collapsed": false
   },
   "outputs": [
    {
     "data": {
      "text/html": [
       "<div>\n",
       "<style>\n",
       "    .dataframe thead tr:only-child th {\n",
       "        text-align: right;\n",
       "    }\n",
       "\n",
       "    .dataframe thead th {\n",
       "        text-align: left;\n",
       "    }\n",
       "\n",
       "    .dataframe tbody tr th {\n",
       "        vertical-align: top;\n",
       "    }\n",
       "</style>\n",
       "<table border=\"1\" class=\"dataframe\">\n",
       "  <thead>\n",
       "    <tr style=\"text-align: right;\">\n",
       "      <th></th>\n",
       "      <th>a</th>\n",
       "      <th>b</th>\n",
       "      <th>d</th>\n",
       "    </tr>\n",
       "  </thead>\n",
       "  <tbody>\n",
       "    <tr>\n",
       "      <th>bird</th>\n",
       "      <td>4.0</td>\n",
       "      <td>NaN</td>\n",
       "      <td>True</td>\n",
       "    </tr>\n",
       "    <tr>\n",
       "      <th>cake</th>\n",
       "      <td>NaN</td>\n",
       "      <td>10.0</td>\n",
       "      <td>False</td>\n",
       "    </tr>\n",
       "    <tr>\n",
       "      <th>cat</th>\n",
       "      <td>2.0</td>\n",
       "      <td>NaN</td>\n",
       "      <td>False</td>\n",
       "    </tr>\n",
       "    <tr>\n",
       "      <th>dog</th>\n",
       "      <td>1.0</td>\n",
       "      <td>NaN</td>\n",
       "      <td>False</td>\n",
       "    </tr>\n",
       "    <tr>\n",
       "      <th>fruit</th>\n",
       "      <td>3.0</td>\n",
       "      <td>20.0</td>\n",
       "      <td>True</td>\n",
       "    </tr>\n",
       "    <tr>\n",
       "      <th>ice cream</th>\n",
       "      <td>NaN</td>\n",
       "      <td>30.0</td>\n",
       "      <td>False</td>\n",
       "    </tr>\n",
       "  </tbody>\n",
       "</table>\n",
       "</div>"
      ],
      "text/plain": [
       "             a     b      d\n",
       "bird       4.0   NaN   True\n",
       "cake       NaN  10.0  False\n",
       "cat        2.0   NaN  False\n",
       "dog        1.0   NaN  False\n",
       "fruit      3.0  20.0   True\n",
       "ice cream  NaN  30.0  False"
      ]
     },
     "execution_count": 251,
     "metadata": {},
     "output_type": "execute_result"
    }
   ],
   "source": [
    "# the pop method has removed 'c' from df\n",
    "\n",
    "df"
   ]
  },
  {
   "cell_type": "code",
   "execution_count": 252,
   "metadata": {
    "collapsed": true
   },
   "outputs": [],
   "source": [
    "# delete column 'b' from the DataFrame\n",
    "\n",
    "del df['b']"
   ]
  },
  {
   "cell_type": "code",
   "execution_count": 253,
   "metadata": {
    "collapsed": false
   },
   "outputs": [
    {
     "data": {
      "text/html": [
       "<div>\n",
       "<style>\n",
       "    .dataframe thead tr:only-child th {\n",
       "        text-align: right;\n",
       "    }\n",
       "\n",
       "    .dataframe thead th {\n",
       "        text-align: left;\n",
       "    }\n",
       "\n",
       "    .dataframe tbody tr th {\n",
       "        vertical-align: top;\n",
       "    }\n",
       "</style>\n",
       "<table border=\"1\" class=\"dataframe\">\n",
       "  <thead>\n",
       "    <tr style=\"text-align: right;\">\n",
       "      <th></th>\n",
       "      <th>a</th>\n",
       "      <th>d</th>\n",
       "    </tr>\n",
       "  </thead>\n",
       "  <tbody>\n",
       "    <tr>\n",
       "      <th>bird</th>\n",
       "      <td>4.0</td>\n",
       "      <td>True</td>\n",
       "    </tr>\n",
       "    <tr>\n",
       "      <th>cake</th>\n",
       "      <td>NaN</td>\n",
       "      <td>False</td>\n",
       "    </tr>\n",
       "    <tr>\n",
       "      <th>cat</th>\n",
       "      <td>2.0</td>\n",
       "      <td>False</td>\n",
       "    </tr>\n",
       "    <tr>\n",
       "      <th>dog</th>\n",
       "      <td>1.0</td>\n",
       "      <td>False</td>\n",
       "    </tr>\n",
       "    <tr>\n",
       "      <th>fruit</th>\n",
       "      <td>3.0</td>\n",
       "      <td>True</td>\n",
       "    </tr>\n",
       "    <tr>\n",
       "      <th>ice cream</th>\n",
       "      <td>NaN</td>\n",
       "      <td>False</td>\n",
       "    </tr>\n",
       "  </tbody>\n",
       "</table>\n",
       "</div>"
      ],
      "text/plain": [
       "             a      d\n",
       "bird       4.0   True\n",
       "cake       NaN  False\n",
       "cat        2.0  False\n",
       "dog        1.0  False\n",
       "fruit      3.0   True\n",
       "ice cream  NaN  False"
      ]
     },
     "execution_count": 253,
     "metadata": {},
     "output_type": "execute_result"
    }
   ],
   "source": [
    "df"
   ]
  },
  {
   "cell_type": "code",
   "execution_count": 254,
   "metadata": {
    "collapsed": false
   },
   "outputs": [
    {
     "data": {
      "text/html": [
       "<div>\n",
       "<style>\n",
       "    .dataframe thead tr:only-child th {\n",
       "        text-align: right;\n",
       "    }\n",
       "\n",
       "    .dataframe thead th {\n",
       "        text-align: left;\n",
       "    }\n",
       "\n",
       "    .dataframe tbody tr th {\n",
       "        vertical-align: top;\n",
       "    }\n",
       "</style>\n",
       "<table border=\"1\" class=\"dataframe\">\n",
       "  <thead>\n",
       "    <tr style=\"text-align: right;\">\n",
       "      <th></th>\n",
       "      <th>a</th>\n",
       "      <th>d</th>\n",
       "      <th>copy_of_a</th>\n",
       "    </tr>\n",
       "  </thead>\n",
       "  <tbody>\n",
       "    <tr>\n",
       "      <th>bird</th>\n",
       "      <td>4.0</td>\n",
       "      <td>True</td>\n",
       "      <td>4.0</td>\n",
       "    </tr>\n",
       "    <tr>\n",
       "      <th>cake</th>\n",
       "      <td>NaN</td>\n",
       "      <td>False</td>\n",
       "      <td>NaN</td>\n",
       "    </tr>\n",
       "    <tr>\n",
       "      <th>cat</th>\n",
       "      <td>2.0</td>\n",
       "      <td>False</td>\n",
       "      <td>2.0</td>\n",
       "    </tr>\n",
       "    <tr>\n",
       "      <th>dog</th>\n",
       "      <td>1.0</td>\n",
       "      <td>False</td>\n",
       "      <td>1.0</td>\n",
       "    </tr>\n",
       "    <tr>\n",
       "      <th>fruit</th>\n",
       "      <td>3.0</td>\n",
       "      <td>True</td>\n",
       "      <td>3.0</td>\n",
       "    </tr>\n",
       "    <tr>\n",
       "      <th>ice cream</th>\n",
       "      <td>NaN</td>\n",
       "      <td>False</td>\n",
       "      <td>NaN</td>\n",
       "    </tr>\n",
       "  </tbody>\n",
       "</table>\n",
       "</div>"
      ],
      "text/plain": [
       "             a      d  copy_of_a\n",
       "bird       4.0   True        4.0\n",
       "cake       NaN  False        NaN\n",
       "cat        2.0  False        2.0\n",
       "dog        1.0  False        1.0\n",
       "fruit      3.0   True        3.0\n",
       "ice cream  NaN  False        NaN"
      ]
     },
     "execution_count": 254,
     "metadata": {},
     "output_type": "execute_result"
    }
   ],
   "source": [
    "# insert a new column that is a copy of column 'a'\n",
    "\n",
    "df.insert(2, 'copy_of_a', df['a'])\n",
    "df"
   ]
  },
  {
   "cell_type": "code",
   "execution_count": 255,
   "metadata": {
    "collapsed": false
   },
   "outputs": [
    {
     "data": {
      "text/html": [
       "<div>\n",
       "<style>\n",
       "    .dataframe thead tr:only-child th {\n",
       "        text-align: right;\n",
       "    }\n",
       "\n",
       "    .dataframe thead th {\n",
       "        text-align: left;\n",
       "    }\n",
       "\n",
       "    .dataframe tbody tr th {\n",
       "        vertical-align: top;\n",
       "    }\n",
       "</style>\n",
       "<table border=\"1\" class=\"dataframe\">\n",
       "  <thead>\n",
       "    <tr style=\"text-align: right;\">\n",
       "      <th></th>\n",
       "      <th>a</th>\n",
       "      <th>d</th>\n",
       "      <th>copy_of_a</th>\n",
       "      <th>a_upper_half</th>\n",
       "    </tr>\n",
       "  </thead>\n",
       "  <tbody>\n",
       "    <tr>\n",
       "      <th>bird</th>\n",
       "      <td>4.0</td>\n",
       "      <td>True</td>\n",
       "      <td>4.0</td>\n",
       "      <td>4.0</td>\n",
       "    </tr>\n",
       "    <tr>\n",
       "      <th>cake</th>\n",
       "      <td>NaN</td>\n",
       "      <td>False</td>\n",
       "      <td>NaN</td>\n",
       "      <td>NaN</td>\n",
       "    </tr>\n",
       "    <tr>\n",
       "      <th>cat</th>\n",
       "      <td>2.0</td>\n",
       "      <td>False</td>\n",
       "      <td>2.0</td>\n",
       "      <td>2.0</td>\n",
       "    </tr>\n",
       "    <tr>\n",
       "      <th>dog</th>\n",
       "      <td>1.0</td>\n",
       "      <td>False</td>\n",
       "      <td>1.0</td>\n",
       "      <td>NaN</td>\n",
       "    </tr>\n",
       "    <tr>\n",
       "      <th>fruit</th>\n",
       "      <td>3.0</td>\n",
       "      <td>True</td>\n",
       "      <td>3.0</td>\n",
       "      <td>NaN</td>\n",
       "    </tr>\n",
       "    <tr>\n",
       "      <th>ice cream</th>\n",
       "      <td>NaN</td>\n",
       "      <td>False</td>\n",
       "      <td>NaN</td>\n",
       "      <td>NaN</td>\n",
       "    </tr>\n",
       "  </tbody>\n",
       "</table>\n",
       "</div>"
      ],
      "text/plain": [
       "             a      d  copy_of_a  a_upper_half\n",
       "bird       4.0   True        4.0           4.0\n",
       "cake       NaN  False        NaN           NaN\n",
       "cat        2.0  False        2.0           2.0\n",
       "dog        1.0  False        1.0           NaN\n",
       "fruit      3.0   True        3.0           NaN\n",
       "ice cream  NaN  False        NaN           NaN"
      ]
     },
     "execution_count": 255,
     "metadata": {},
     "output_type": "execute_result"
    }
   ],
   "source": [
    "# insert a new column that is a copy of 'a' up to excluding the value at the third position of the Series. The rest of the\n",
    "# column is NaNs\n",
    "\n",
    "df['a_upper_half'] = df['a'][:3]\n",
    "df"
   ]
  },
  {
   "cell_type": "markdown",
   "metadata": {},
   "source": [
    "Note that while both methods above (df.insert and df['col']) allowed us to insert new columns into the DataFrame, only df.insert lets us specify which position we want the column to be in."
   ]
  },
  {
   "cell_type": "markdown",
   "metadata": {},
   "source": [
    "<p style=\"font-family: Arial; font-size:1.75em;color:#2462C0; font-style:bold\">\n",
    "Case Study: Air Quality Dataset </p>\n",
    "<br>This notebook uses a dataset from the UC Irvine website. We will describe the dataset further as we explore with it using *pandas*. \n",
    "\n",
    "## Download the Dataset\n",
    "\n",
    "Please note that **you will need to download the dataset** from the UC Irvine Machine Learning Dataset Repository. \n",
    "\n",
    "You can find the data at http://archive.ics.uci.edu/ml/machine-learning-databases/00360/. Please unzip the file at a filepath of your choice. \n",
    "\n",
    "Here are instructions on how to unzip a file in Windows: https://support.microsoft.com/en-us/help/14200/windows-compress-uncompress-zip-files. \n",
    "For Macs, simply double-click on the file. \n",
    "\n",
    "\n"
   ]
  },
  {
   "cell_type": "markdown",
   "metadata": {},
   "source": [
    "<p style=\"font-family: Arial; font-size:1.75em;color:#2462C0; font-style:bold\">\n",
    "Use Pandas to Read the Dataset<br>\n",
    "</p>\n",
    "<br>\n",
    "In this notebook, we will be using a CSV file:\n",
    "* **AirQualityUCI.csv :** \n",
    "\n",
    "The dataset contains over 9000 measurements of air quality taken over a year. \n",
    "\n",
    "The following are the measures taken: \n",
    "Date\tTime\tCO(GT)\tPT08.S1(CO)\tNMHC(GT)\tC6H6(GT)\tPT08.S2(NMHC)\tNOx(GT)\tPT08.S3(NOx)\tNO2(GT)\tPT08.S4(NO2)\tPT08.S5(O3)\tT\tRH\tAH\n",
    "\n",
    "\n",
    "\n",
    "Using the *read_csv* function in pandas, we will transfer this information into our code. "
   ]
  },
  {
   "cell_type": "code",
   "execution_count": 256,
   "metadata": {
    "collapsed": false,
    "scrolled": true
   },
   "outputs": [
    {
     "name": "stdout",
     "output_type": "stream",
     "text": [
      "<class 'pandas.core.frame.DataFrame'>\n"
     ]
    },
    {
     "data": {
      "text/html": [
       "<div>\n",
       "<style>\n",
       "    .dataframe thead tr:only-child th {\n",
       "        text-align: right;\n",
       "    }\n",
       "\n",
       "    .dataframe thead th {\n",
       "        text-align: left;\n",
       "    }\n",
       "\n",
       "    .dataframe tbody tr th {\n",
       "        vertical-align: top;\n",
       "    }\n",
       "</style>\n",
       "<table border=\"1\" class=\"dataframe\">\n",
       "  <thead>\n",
       "    <tr style=\"text-align: right;\">\n",
       "      <th></th>\n",
       "      <th>Date</th>\n",
       "      <th>Time</th>\n",
       "      <th>CO(GT)</th>\n",
       "      <th>PT08.S1(CO)</th>\n",
       "      <th>NMHC(GT)</th>\n",
       "      <th>C6H6(GT)</th>\n",
       "      <th>PT08.S2(NMHC)</th>\n",
       "      <th>NOx(GT)</th>\n",
       "      <th>PT08.S3(NOx)</th>\n",
       "      <th>NO2(GT)</th>\n",
       "      <th>PT08.S4(NO2)</th>\n",
       "      <th>PT08.S5(O3)</th>\n",
       "      <th>T</th>\n",
       "      <th>RH</th>\n",
       "      <th>AH</th>\n",
       "      <th>Unnamed: 15</th>\n",
       "      <th>Unnamed: 16</th>\n",
       "    </tr>\n",
       "  </thead>\n",
       "  <tbody>\n",
       "    <tr>\n",
       "      <th>0</th>\n",
       "      <td>10/03/2004</td>\n",
       "      <td>18.00.00</td>\n",
       "      <td>2,6</td>\n",
       "      <td>1360.0</td>\n",
       "      <td>150.0</td>\n",
       "      <td>11,9</td>\n",
       "      <td>1046.0</td>\n",
       "      <td>166.0</td>\n",
       "      <td>1056.0</td>\n",
       "      <td>113.0</td>\n",
       "      <td>1692.0</td>\n",
       "      <td>1268.0</td>\n",
       "      <td>13,6</td>\n",
       "      <td>48,9</td>\n",
       "      <td>0,7578</td>\n",
       "      <td>NaN</td>\n",
       "      <td>NaN</td>\n",
       "    </tr>\n",
       "    <tr>\n",
       "      <th>1</th>\n",
       "      <td>10/03/2004</td>\n",
       "      <td>19.00.00</td>\n",
       "      <td>2</td>\n",
       "      <td>1292.0</td>\n",
       "      <td>112.0</td>\n",
       "      <td>9,4</td>\n",
       "      <td>955.0</td>\n",
       "      <td>103.0</td>\n",
       "      <td>1174.0</td>\n",
       "      <td>92.0</td>\n",
       "      <td>1559.0</td>\n",
       "      <td>972.0</td>\n",
       "      <td>13,3</td>\n",
       "      <td>47,7</td>\n",
       "      <td>0,7255</td>\n",
       "      <td>NaN</td>\n",
       "      <td>NaN</td>\n",
       "    </tr>\n",
       "    <tr>\n",
       "      <th>2</th>\n",
       "      <td>10/03/2004</td>\n",
       "      <td>20.00.00</td>\n",
       "      <td>2,2</td>\n",
       "      <td>1402.0</td>\n",
       "      <td>88.0</td>\n",
       "      <td>9,0</td>\n",
       "      <td>939.0</td>\n",
       "      <td>131.0</td>\n",
       "      <td>1140.0</td>\n",
       "      <td>114.0</td>\n",
       "      <td>1555.0</td>\n",
       "      <td>1074.0</td>\n",
       "      <td>11,9</td>\n",
       "      <td>54,0</td>\n",
       "      <td>0,7502</td>\n",
       "      <td>NaN</td>\n",
       "      <td>NaN</td>\n",
       "    </tr>\n",
       "    <tr>\n",
       "      <th>3</th>\n",
       "      <td>10/03/2004</td>\n",
       "      <td>21.00.00</td>\n",
       "      <td>2,2</td>\n",
       "      <td>1376.0</td>\n",
       "      <td>80.0</td>\n",
       "      <td>9,2</td>\n",
       "      <td>948.0</td>\n",
       "      <td>172.0</td>\n",
       "      <td>1092.0</td>\n",
       "      <td>122.0</td>\n",
       "      <td>1584.0</td>\n",
       "      <td>1203.0</td>\n",
       "      <td>11,0</td>\n",
       "      <td>60,0</td>\n",
       "      <td>0,7867</td>\n",
       "      <td>NaN</td>\n",
       "      <td>NaN</td>\n",
       "    </tr>\n",
       "    <tr>\n",
       "      <th>4</th>\n",
       "      <td>10/03/2004</td>\n",
       "      <td>22.00.00</td>\n",
       "      <td>1,6</td>\n",
       "      <td>1272.0</td>\n",
       "      <td>51.0</td>\n",
       "      <td>6,5</td>\n",
       "      <td>836.0</td>\n",
       "      <td>131.0</td>\n",
       "      <td>1205.0</td>\n",
       "      <td>116.0</td>\n",
       "      <td>1490.0</td>\n",
       "      <td>1110.0</td>\n",
       "      <td>11,2</td>\n",
       "      <td>59,6</td>\n",
       "      <td>0,7888</td>\n",
       "      <td>NaN</td>\n",
       "      <td>NaN</td>\n",
       "    </tr>\n",
       "    <tr>\n",
       "      <th>5</th>\n",
       "      <td>10/03/2004</td>\n",
       "      <td>23.00.00</td>\n",
       "      <td>1,2</td>\n",
       "      <td>1197.0</td>\n",
       "      <td>38.0</td>\n",
       "      <td>4,7</td>\n",
       "      <td>750.0</td>\n",
       "      <td>89.0</td>\n",
       "      <td>1337.0</td>\n",
       "      <td>96.0</td>\n",
       "      <td>1393.0</td>\n",
       "      <td>949.0</td>\n",
       "      <td>11,2</td>\n",
       "      <td>59,2</td>\n",
       "      <td>0,7848</td>\n",
       "      <td>NaN</td>\n",
       "      <td>NaN</td>\n",
       "    </tr>\n",
       "    <tr>\n",
       "      <th>6</th>\n",
       "      <td>11/03/2004</td>\n",
       "      <td>00.00.00</td>\n",
       "      <td>1,2</td>\n",
       "      <td>1185.0</td>\n",
       "      <td>31.0</td>\n",
       "      <td>3,6</td>\n",
       "      <td>690.0</td>\n",
       "      <td>62.0</td>\n",
       "      <td>1462.0</td>\n",
       "      <td>77.0</td>\n",
       "      <td>1333.0</td>\n",
       "      <td>733.0</td>\n",
       "      <td>11,3</td>\n",
       "      <td>56,8</td>\n",
       "      <td>0,7603</td>\n",
       "      <td>NaN</td>\n",
       "      <td>NaN</td>\n",
       "    </tr>\n",
       "    <tr>\n",
       "      <th>7</th>\n",
       "      <td>11/03/2004</td>\n",
       "      <td>01.00.00</td>\n",
       "      <td>1</td>\n",
       "      <td>1136.0</td>\n",
       "      <td>31.0</td>\n",
       "      <td>3,3</td>\n",
       "      <td>672.0</td>\n",
       "      <td>62.0</td>\n",
       "      <td>1453.0</td>\n",
       "      <td>76.0</td>\n",
       "      <td>1333.0</td>\n",
       "      <td>730.0</td>\n",
       "      <td>10,7</td>\n",
       "      <td>60,0</td>\n",
       "      <td>0,7702</td>\n",
       "      <td>NaN</td>\n",
       "      <td>NaN</td>\n",
       "    </tr>\n",
       "    <tr>\n",
       "      <th>8</th>\n",
       "      <td>11/03/2004</td>\n",
       "      <td>02.00.00</td>\n",
       "      <td>0,9</td>\n",
       "      <td>1094.0</td>\n",
       "      <td>24.0</td>\n",
       "      <td>2,3</td>\n",
       "      <td>609.0</td>\n",
       "      <td>45.0</td>\n",
       "      <td>1579.0</td>\n",
       "      <td>60.0</td>\n",
       "      <td>1276.0</td>\n",
       "      <td>620.0</td>\n",
       "      <td>10,7</td>\n",
       "      <td>59,7</td>\n",
       "      <td>0,7648</td>\n",
       "      <td>NaN</td>\n",
       "      <td>NaN</td>\n",
       "    </tr>\n",
       "    <tr>\n",
       "      <th>9</th>\n",
       "      <td>11/03/2004</td>\n",
       "      <td>03.00.00</td>\n",
       "      <td>0,6</td>\n",
       "      <td>1010.0</td>\n",
       "      <td>19.0</td>\n",
       "      <td>1,7</td>\n",
       "      <td>561.0</td>\n",
       "      <td>-200.0</td>\n",
       "      <td>1705.0</td>\n",
       "      <td>-200.0</td>\n",
       "      <td>1235.0</td>\n",
       "      <td>501.0</td>\n",
       "      <td>10,3</td>\n",
       "      <td>60,2</td>\n",
       "      <td>0,7517</td>\n",
       "      <td>NaN</td>\n",
       "      <td>NaN</td>\n",
       "    </tr>\n",
       "    <tr>\n",
       "      <th>10</th>\n",
       "      <td>11/03/2004</td>\n",
       "      <td>04.00.00</td>\n",
       "      <td>-200</td>\n",
       "      <td>1011.0</td>\n",
       "      <td>14.0</td>\n",
       "      <td>1,3</td>\n",
       "      <td>527.0</td>\n",
       "      <td>21.0</td>\n",
       "      <td>1818.0</td>\n",
       "      <td>34.0</td>\n",
       "      <td>1197.0</td>\n",
       "      <td>445.0</td>\n",
       "      <td>10,1</td>\n",
       "      <td>60,5</td>\n",
       "      <td>0,7465</td>\n",
       "      <td>NaN</td>\n",
       "      <td>NaN</td>\n",
       "    </tr>\n",
       "    <tr>\n",
       "      <th>11</th>\n",
       "      <td>11/03/2004</td>\n",
       "      <td>05.00.00</td>\n",
       "      <td>0,7</td>\n",
       "      <td>1066.0</td>\n",
       "      <td>8.0</td>\n",
       "      <td>1,1</td>\n",
       "      <td>512.0</td>\n",
       "      <td>16.0</td>\n",
       "      <td>1918.0</td>\n",
       "      <td>28.0</td>\n",
       "      <td>1182.0</td>\n",
       "      <td>422.0</td>\n",
       "      <td>11,0</td>\n",
       "      <td>56,2</td>\n",
       "      <td>0,7366</td>\n",
       "      <td>NaN</td>\n",
       "      <td>NaN</td>\n",
       "    </tr>\n",
       "    <tr>\n",
       "      <th>12</th>\n",
       "      <td>11/03/2004</td>\n",
       "      <td>06.00.00</td>\n",
       "      <td>0,7</td>\n",
       "      <td>1052.0</td>\n",
       "      <td>16.0</td>\n",
       "      <td>1,6</td>\n",
       "      <td>553.0</td>\n",
       "      <td>34.0</td>\n",
       "      <td>1738.0</td>\n",
       "      <td>48.0</td>\n",
       "      <td>1221.0</td>\n",
       "      <td>472.0</td>\n",
       "      <td>10,5</td>\n",
       "      <td>58,1</td>\n",
       "      <td>0,7353</td>\n",
       "      <td>NaN</td>\n",
       "      <td>NaN</td>\n",
       "    </tr>\n",
       "    <tr>\n",
       "      <th>13</th>\n",
       "      <td>11/03/2004</td>\n",
       "      <td>07.00.00</td>\n",
       "      <td>1,1</td>\n",
       "      <td>1144.0</td>\n",
       "      <td>29.0</td>\n",
       "      <td>3,2</td>\n",
       "      <td>667.0</td>\n",
       "      <td>98.0</td>\n",
       "      <td>1490.0</td>\n",
       "      <td>82.0</td>\n",
       "      <td>1339.0</td>\n",
       "      <td>730.0</td>\n",
       "      <td>10,2</td>\n",
       "      <td>59,6</td>\n",
       "      <td>0,7417</td>\n",
       "      <td>NaN</td>\n",
       "      <td>NaN</td>\n",
       "    </tr>\n",
       "    <tr>\n",
       "      <th>14</th>\n",
       "      <td>11/03/2004</td>\n",
       "      <td>08.00.00</td>\n",
       "      <td>2</td>\n",
       "      <td>1333.0</td>\n",
       "      <td>64.0</td>\n",
       "      <td>8,0</td>\n",
       "      <td>900.0</td>\n",
       "      <td>174.0</td>\n",
       "      <td>1136.0</td>\n",
       "      <td>112.0</td>\n",
       "      <td>1517.0</td>\n",
       "      <td>1102.0</td>\n",
       "      <td>10,8</td>\n",
       "      <td>57,4</td>\n",
       "      <td>0,7408</td>\n",
       "      <td>NaN</td>\n",
       "      <td>NaN</td>\n",
       "    </tr>\n",
       "  </tbody>\n",
       "</table>\n",
       "</div>"
      ],
      "text/plain": [
       "          Date      Time CO(GT)  PT08.S1(CO)  NMHC(GT) C6H6(GT)  \\\n",
       "0   10/03/2004  18.00.00    2,6       1360.0     150.0     11,9   \n",
       "1   10/03/2004  19.00.00      2       1292.0     112.0      9,4   \n",
       "2   10/03/2004  20.00.00    2,2       1402.0      88.0      9,0   \n",
       "3   10/03/2004  21.00.00    2,2       1376.0      80.0      9,2   \n",
       "4   10/03/2004  22.00.00    1,6       1272.0      51.0      6,5   \n",
       "5   10/03/2004  23.00.00    1,2       1197.0      38.0      4,7   \n",
       "6   11/03/2004  00.00.00    1,2       1185.0      31.0      3,6   \n",
       "7   11/03/2004  01.00.00      1       1136.0      31.0      3,3   \n",
       "8   11/03/2004  02.00.00    0,9       1094.0      24.0      2,3   \n",
       "9   11/03/2004  03.00.00    0,6       1010.0      19.0      1,7   \n",
       "10  11/03/2004  04.00.00   -200       1011.0      14.0      1,3   \n",
       "11  11/03/2004  05.00.00    0,7       1066.0       8.0      1,1   \n",
       "12  11/03/2004  06.00.00    0,7       1052.0      16.0      1,6   \n",
       "13  11/03/2004  07.00.00    1,1       1144.0      29.0      3,2   \n",
       "14  11/03/2004  08.00.00      2       1333.0      64.0      8,0   \n",
       "\n",
       "    PT08.S2(NMHC)  NOx(GT)  PT08.S3(NOx)  NO2(GT)  PT08.S4(NO2)  PT08.S5(O3)  \\\n",
       "0          1046.0    166.0        1056.0    113.0        1692.0       1268.0   \n",
       "1           955.0    103.0        1174.0     92.0        1559.0        972.0   \n",
       "2           939.0    131.0        1140.0    114.0        1555.0       1074.0   \n",
       "3           948.0    172.0        1092.0    122.0        1584.0       1203.0   \n",
       "4           836.0    131.0        1205.0    116.0        1490.0       1110.0   \n",
       "5           750.0     89.0        1337.0     96.0        1393.0        949.0   \n",
       "6           690.0     62.0        1462.0     77.0        1333.0        733.0   \n",
       "7           672.0     62.0        1453.0     76.0        1333.0        730.0   \n",
       "8           609.0     45.0        1579.0     60.0        1276.0        620.0   \n",
       "9           561.0   -200.0        1705.0   -200.0        1235.0        501.0   \n",
       "10          527.0     21.0        1818.0     34.0        1197.0        445.0   \n",
       "11          512.0     16.0        1918.0     28.0        1182.0        422.0   \n",
       "12          553.0     34.0        1738.0     48.0        1221.0        472.0   \n",
       "13          667.0     98.0        1490.0     82.0        1339.0        730.0   \n",
       "14          900.0    174.0        1136.0    112.0        1517.0       1102.0   \n",
       "\n",
       "       T    RH      AH  Unnamed: 15  Unnamed: 16  \n",
       "0   13,6  48,9  0,7578          NaN          NaN  \n",
       "1   13,3  47,7  0,7255          NaN          NaN  \n",
       "2   11,9  54,0  0,7502          NaN          NaN  \n",
       "3   11,0  60,0  0,7867          NaN          NaN  \n",
       "4   11,2  59,6  0,7888          NaN          NaN  \n",
       "5   11,2  59,2  0,7848          NaN          NaN  \n",
       "6   11,3  56,8  0,7603          NaN          NaN  \n",
       "7   10,7  60,0  0,7702          NaN          NaN  \n",
       "8   10,7  59,7  0,7648          NaN          NaN  \n",
       "9   10,3  60,2  0,7517          NaN          NaN  \n",
       "10  10,1  60,5  0,7465          NaN          NaN  \n",
       "11  11,0  56,2  0,7366          NaN          NaN  \n",
       "12  10,5  58,1  0,7353          NaN          NaN  \n",
       "13  10,2  59,6  0,7417          NaN          NaN  \n",
       "14  10,8  57,4  0,7408          NaN          NaN  "
      ]
     },
     "execution_count": 256,
     "metadata": {},
     "output_type": "execute_result"
    }
   ],
   "source": [
    "filepath = 'C:/Users/Shubhom/Downloads/AirQualityUCI.csv'\n",
    "airquality = pd.read_csv(filepath,sep=',',delimiter=';')\n",
    "print(type(airquality))\n",
    "airquality.head(15)"
   ]
  },
  {
   "cell_type": "markdown",
   "metadata": {},
   "source": [
    "Our dataset is loaded and looks ok, but it looks like there's some cleaning that needs to be done. Notice how the last two columns are unnamed and how the C6H6(GT) and T columns have values with commas.In this case, the commas are <i>not</i> delimiters but are instead substites for decimal points. However, the following code block shows why Python is really useful. "
   ]
  },
  {
   "cell_type": "code",
   "execution_count": 257,
   "metadata": {
    "collapsed": false
   },
   "outputs": [
    {
     "data": {
      "text/html": [
       "<div>\n",
       "<style>\n",
       "    .dataframe thead tr:only-child th {\n",
       "        text-align: right;\n",
       "    }\n",
       "\n",
       "    .dataframe thead th {\n",
       "        text-align: left;\n",
       "    }\n",
       "\n",
       "    .dataframe tbody tr th {\n",
       "        vertical-align: top;\n",
       "    }\n",
       "</style>\n",
       "<table border=\"1\" class=\"dataframe\">\n",
       "  <thead>\n",
       "    <tr style=\"text-align: right;\">\n",
       "      <th></th>\n",
       "      <th>Date</th>\n",
       "      <th>Time</th>\n",
       "      <th>CO(GT)</th>\n",
       "      <th>PT08.S1(CO)</th>\n",
       "      <th>NMHC(GT)</th>\n",
       "      <th>C6H6(GT)</th>\n",
       "      <th>PT08.S2(NMHC)</th>\n",
       "      <th>NOx(GT)</th>\n",
       "      <th>PT08.S3(NOx)</th>\n",
       "      <th>NO2(GT)</th>\n",
       "      <th>PT08.S4(NO2)</th>\n",
       "      <th>PT08.S5(O3)</th>\n",
       "      <th>T</th>\n",
       "      <th>RH</th>\n",
       "      <th>AH</th>\n",
       "      <th>Unnamed: 15</th>\n",
       "      <th>Unnamed: 16</th>\n",
       "    </tr>\n",
       "  </thead>\n",
       "  <tbody>\n",
       "    <tr>\n",
       "      <th>0</th>\n",
       "      <td>10/03/2004</td>\n",
       "      <td>18.00.00</td>\n",
       "      <td>2.0</td>\n",
       "      <td>6.0</td>\n",
       "      <td>1360.0</td>\n",
       "      <td>150.0</td>\n",
       "      <td>11.0</td>\n",
       "      <td>9.0</td>\n",
       "      <td>1046.0</td>\n",
       "      <td>166.0</td>\n",
       "      <td>1056.0</td>\n",
       "      <td>113.0</td>\n",
       "      <td>1692.0</td>\n",
       "      <td>1268.0</td>\n",
       "      <td>13.0</td>\n",
       "      <td>6.0</td>\n",
       "      <td>48.0</td>\n",
       "    </tr>\n",
       "    <tr>\n",
       "      <th>1</th>\n",
       "      <td>10/03/2004</td>\n",
       "      <td>19.00.00</td>\n",
       "      <td>2.0</td>\n",
       "      <td>1292.0</td>\n",
       "      <td>112.0</td>\n",
       "      <td>9.0</td>\n",
       "      <td>4.0</td>\n",
       "      <td>955.0</td>\n",
       "      <td>103.0</td>\n",
       "      <td>1174.0</td>\n",
       "      <td>92.0</td>\n",
       "      <td>1559.0</td>\n",
       "      <td>972.0</td>\n",
       "      <td>13.0</td>\n",
       "      <td>3.0</td>\n",
       "      <td>47.0</td>\n",
       "      <td>7.0</td>\n",
       "    </tr>\n",
       "    <tr>\n",
       "      <th>2</th>\n",
       "      <td>10/03/2004</td>\n",
       "      <td>20.00.00</td>\n",
       "      <td>2.0</td>\n",
       "      <td>2.0</td>\n",
       "      <td>1402.0</td>\n",
       "      <td>88.0</td>\n",
       "      <td>9.0</td>\n",
       "      <td>0.0</td>\n",
       "      <td>939.0</td>\n",
       "      <td>131.0</td>\n",
       "      <td>1140.0</td>\n",
       "      <td>114.0</td>\n",
       "      <td>1555.0</td>\n",
       "      <td>1074.0</td>\n",
       "      <td>11.0</td>\n",
       "      <td>9.0</td>\n",
       "      <td>54.0</td>\n",
       "    </tr>\n",
       "    <tr>\n",
       "      <th>3</th>\n",
       "      <td>10/03/2004</td>\n",
       "      <td>21.00.00</td>\n",
       "      <td>2.0</td>\n",
       "      <td>2.0</td>\n",
       "      <td>1376.0</td>\n",
       "      <td>80.0</td>\n",
       "      <td>9.0</td>\n",
       "      <td>2.0</td>\n",
       "      <td>948.0</td>\n",
       "      <td>172.0</td>\n",
       "      <td>1092.0</td>\n",
       "      <td>122.0</td>\n",
       "      <td>1584.0</td>\n",
       "      <td>1203.0</td>\n",
       "      <td>11.0</td>\n",
       "      <td>0.0</td>\n",
       "      <td>60.0</td>\n",
       "    </tr>\n",
       "    <tr>\n",
       "      <th>4</th>\n",
       "      <td>10/03/2004</td>\n",
       "      <td>22.00.00</td>\n",
       "      <td>1.0</td>\n",
       "      <td>6.0</td>\n",
       "      <td>1272.0</td>\n",
       "      <td>51.0</td>\n",
       "      <td>6.0</td>\n",
       "      <td>5.0</td>\n",
       "      <td>836.0</td>\n",
       "      <td>131.0</td>\n",
       "      <td>1205.0</td>\n",
       "      <td>116.0</td>\n",
       "      <td>1490.0</td>\n",
       "      <td>1110.0</td>\n",
       "      <td>11.0</td>\n",
       "      <td>2.0</td>\n",
       "      <td>59.0</td>\n",
       "    </tr>\n",
       "    <tr>\n",
       "      <th>5</th>\n",
       "      <td>10/03/2004</td>\n",
       "      <td>23.00.00</td>\n",
       "      <td>1.0</td>\n",
       "      <td>2.0</td>\n",
       "      <td>1197.0</td>\n",
       "      <td>38.0</td>\n",
       "      <td>4.0</td>\n",
       "      <td>7.0</td>\n",
       "      <td>750.0</td>\n",
       "      <td>89.0</td>\n",
       "      <td>1337.0</td>\n",
       "      <td>96.0</td>\n",
       "      <td>1393.0</td>\n",
       "      <td>949.0</td>\n",
       "      <td>11.0</td>\n",
       "      <td>2.0</td>\n",
       "      <td>59.0</td>\n",
       "    </tr>\n",
       "    <tr>\n",
       "      <th>6</th>\n",
       "      <td>11/03/2004</td>\n",
       "      <td>00.00.00</td>\n",
       "      <td>1.0</td>\n",
       "      <td>2.0</td>\n",
       "      <td>1185.0</td>\n",
       "      <td>31.0</td>\n",
       "      <td>3.0</td>\n",
       "      <td>6.0</td>\n",
       "      <td>690.0</td>\n",
       "      <td>62.0</td>\n",
       "      <td>1462.0</td>\n",
       "      <td>77.0</td>\n",
       "      <td>1333.0</td>\n",
       "      <td>733.0</td>\n",
       "      <td>11.0</td>\n",
       "      <td>3.0</td>\n",
       "      <td>56.0</td>\n",
       "    </tr>\n",
       "    <tr>\n",
       "      <th>7</th>\n",
       "      <td>11/03/2004</td>\n",
       "      <td>01.00.00</td>\n",
       "      <td>1.0</td>\n",
       "      <td>1136.0</td>\n",
       "      <td>31.0</td>\n",
       "      <td>3.0</td>\n",
       "      <td>3.0</td>\n",
       "      <td>672.0</td>\n",
       "      <td>62.0</td>\n",
       "      <td>1453.0</td>\n",
       "      <td>76.0</td>\n",
       "      <td>1333.0</td>\n",
       "      <td>730.0</td>\n",
       "      <td>10.0</td>\n",
       "      <td>7.0</td>\n",
       "      <td>60.0</td>\n",
       "      <td>0.0</td>\n",
       "    </tr>\n",
       "    <tr>\n",
       "      <th>8</th>\n",
       "      <td>11/03/2004</td>\n",
       "      <td>02.00.00</td>\n",
       "      <td>0.0</td>\n",
       "      <td>9.0</td>\n",
       "      <td>1094.0</td>\n",
       "      <td>24.0</td>\n",
       "      <td>2.0</td>\n",
       "      <td>3.0</td>\n",
       "      <td>609.0</td>\n",
       "      <td>45.0</td>\n",
       "      <td>1579.0</td>\n",
       "      <td>60.0</td>\n",
       "      <td>1276.0</td>\n",
       "      <td>620.0</td>\n",
       "      <td>10.0</td>\n",
       "      <td>7.0</td>\n",
       "      <td>59.0</td>\n",
       "    </tr>\n",
       "    <tr>\n",
       "      <th>9</th>\n",
       "      <td>11/03/2004</td>\n",
       "      <td>03.00.00</td>\n",
       "      <td>0.0</td>\n",
       "      <td>6.0</td>\n",
       "      <td>1010.0</td>\n",
       "      <td>19.0</td>\n",
       "      <td>1.0</td>\n",
       "      <td>7.0</td>\n",
       "      <td>561.0</td>\n",
       "      <td>-200.0</td>\n",
       "      <td>1705.0</td>\n",
       "      <td>-200.0</td>\n",
       "      <td>1235.0</td>\n",
       "      <td>501.0</td>\n",
       "      <td>10.0</td>\n",
       "      <td>3.0</td>\n",
       "      <td>60.0</td>\n",
       "    </tr>\n",
       "    <tr>\n",
       "      <th>10</th>\n",
       "      <td>11/03/2004</td>\n",
       "      <td>04.00.00</td>\n",
       "      <td>-200.0</td>\n",
       "      <td>1011.0</td>\n",
       "      <td>14.0</td>\n",
       "      <td>1.0</td>\n",
       "      <td>3.0</td>\n",
       "      <td>527.0</td>\n",
       "      <td>21.0</td>\n",
       "      <td>1818.0</td>\n",
       "      <td>34.0</td>\n",
       "      <td>1197.0</td>\n",
       "      <td>445.0</td>\n",
       "      <td>10.0</td>\n",
       "      <td>1.0</td>\n",
       "      <td>60.0</td>\n",
       "      <td>5.0</td>\n",
       "    </tr>\n",
       "    <tr>\n",
       "      <th>11</th>\n",
       "      <td>11/03/2004</td>\n",
       "      <td>05.00.00</td>\n",
       "      <td>0.0</td>\n",
       "      <td>7.0</td>\n",
       "      <td>1066.0</td>\n",
       "      <td>8.0</td>\n",
       "      <td>1.0</td>\n",
       "      <td>1.0</td>\n",
       "      <td>512.0</td>\n",
       "      <td>16.0</td>\n",
       "      <td>1918.0</td>\n",
       "      <td>28.0</td>\n",
       "      <td>1182.0</td>\n",
       "      <td>422.0</td>\n",
       "      <td>11.0</td>\n",
       "      <td>0.0</td>\n",
       "      <td>56.0</td>\n",
       "    </tr>\n",
       "    <tr>\n",
       "      <th>12</th>\n",
       "      <td>11/03/2004</td>\n",
       "      <td>06.00.00</td>\n",
       "      <td>0.0</td>\n",
       "      <td>7.0</td>\n",
       "      <td>1052.0</td>\n",
       "      <td>16.0</td>\n",
       "      <td>1.0</td>\n",
       "      <td>6.0</td>\n",
       "      <td>553.0</td>\n",
       "      <td>34.0</td>\n",
       "      <td>1738.0</td>\n",
       "      <td>48.0</td>\n",
       "      <td>1221.0</td>\n",
       "      <td>472.0</td>\n",
       "      <td>10.0</td>\n",
       "      <td>5.0</td>\n",
       "      <td>58.0</td>\n",
       "    </tr>\n",
       "    <tr>\n",
       "      <th>13</th>\n",
       "      <td>11/03/2004</td>\n",
       "      <td>07.00.00</td>\n",
       "      <td>1.0</td>\n",
       "      <td>1.0</td>\n",
       "      <td>1144.0</td>\n",
       "      <td>29.0</td>\n",
       "      <td>3.0</td>\n",
       "      <td>2.0</td>\n",
       "      <td>667.0</td>\n",
       "      <td>98.0</td>\n",
       "      <td>1490.0</td>\n",
       "      <td>82.0</td>\n",
       "      <td>1339.0</td>\n",
       "      <td>730.0</td>\n",
       "      <td>10.0</td>\n",
       "      <td>2.0</td>\n",
       "      <td>59.0</td>\n",
       "    </tr>\n",
       "    <tr>\n",
       "      <th>14</th>\n",
       "      <td>11/03/2004</td>\n",
       "      <td>08.00.00</td>\n",
       "      <td>2.0</td>\n",
       "      <td>1333.0</td>\n",
       "      <td>64.0</td>\n",
       "      <td>8.0</td>\n",
       "      <td>0.0</td>\n",
       "      <td>900.0</td>\n",
       "      <td>174.0</td>\n",
       "      <td>1136.0</td>\n",
       "      <td>112.0</td>\n",
       "      <td>1517.0</td>\n",
       "      <td>1102.0</td>\n",
       "      <td>10.0</td>\n",
       "      <td>8.0</td>\n",
       "      <td>57.0</td>\n",
       "      <td>4.0</td>\n",
       "    </tr>\n",
       "  </tbody>\n",
       "</table>\n",
       "</div>"
      ],
      "text/plain": [
       "          Date      Time  CO(GT)  PT08.S1(CO)  NMHC(GT)  C6H6(GT)  \\\n",
       "0   10/03/2004  18.00.00     2.0          6.0    1360.0     150.0   \n",
       "1   10/03/2004  19.00.00     2.0       1292.0     112.0       9.0   \n",
       "2   10/03/2004  20.00.00     2.0          2.0    1402.0      88.0   \n",
       "3   10/03/2004  21.00.00     2.0          2.0    1376.0      80.0   \n",
       "4   10/03/2004  22.00.00     1.0          6.0    1272.0      51.0   \n",
       "5   10/03/2004  23.00.00     1.0          2.0    1197.0      38.0   \n",
       "6   11/03/2004  00.00.00     1.0          2.0    1185.0      31.0   \n",
       "7   11/03/2004  01.00.00     1.0       1136.0      31.0       3.0   \n",
       "8   11/03/2004  02.00.00     0.0          9.0    1094.0      24.0   \n",
       "9   11/03/2004  03.00.00     0.0          6.0    1010.0      19.0   \n",
       "10  11/03/2004  04.00.00  -200.0       1011.0      14.0       1.0   \n",
       "11  11/03/2004  05.00.00     0.0          7.0    1066.0       8.0   \n",
       "12  11/03/2004  06.00.00     0.0          7.0    1052.0      16.0   \n",
       "13  11/03/2004  07.00.00     1.0          1.0    1144.0      29.0   \n",
       "14  11/03/2004  08.00.00     2.0       1333.0      64.0       8.0   \n",
       "\n",
       "    PT08.S2(NMHC)  NOx(GT)  PT08.S3(NOx)  NO2(GT)  PT08.S4(NO2)  PT08.S5(O3)  \\\n",
       "0            11.0      9.0        1046.0    166.0        1056.0        113.0   \n",
       "1             4.0    955.0         103.0   1174.0          92.0       1559.0   \n",
       "2             9.0      0.0         939.0    131.0        1140.0        114.0   \n",
       "3             9.0      2.0         948.0    172.0        1092.0        122.0   \n",
       "4             6.0      5.0         836.0    131.0        1205.0        116.0   \n",
       "5             4.0      7.0         750.0     89.0        1337.0         96.0   \n",
       "6             3.0      6.0         690.0     62.0        1462.0         77.0   \n",
       "7             3.0    672.0          62.0   1453.0          76.0       1333.0   \n",
       "8             2.0      3.0         609.0     45.0        1579.0         60.0   \n",
       "9             1.0      7.0         561.0   -200.0        1705.0       -200.0   \n",
       "10            3.0    527.0          21.0   1818.0          34.0       1197.0   \n",
       "11            1.0      1.0         512.0     16.0        1918.0         28.0   \n",
       "12            1.0      6.0         553.0     34.0        1738.0         48.0   \n",
       "13            3.0      2.0         667.0     98.0        1490.0         82.0   \n",
       "14            0.0    900.0         174.0   1136.0         112.0       1517.0   \n",
       "\n",
       "         T      RH    AH  Unnamed: 15  Unnamed: 16  \n",
       "0   1692.0  1268.0  13.0          6.0         48.0  \n",
       "1    972.0    13.0   3.0         47.0          7.0  \n",
       "2   1555.0  1074.0  11.0          9.0         54.0  \n",
       "3   1584.0  1203.0  11.0          0.0         60.0  \n",
       "4   1490.0  1110.0  11.0          2.0         59.0  \n",
       "5   1393.0   949.0  11.0          2.0         59.0  \n",
       "6   1333.0   733.0  11.0          3.0         56.0  \n",
       "7    730.0    10.0   7.0         60.0          0.0  \n",
       "8   1276.0   620.0  10.0          7.0         59.0  \n",
       "9   1235.0   501.0  10.0          3.0         60.0  \n",
       "10   445.0    10.0   1.0         60.0          5.0  \n",
       "11  1182.0   422.0  11.0          0.0         56.0  \n",
       "12  1221.0   472.0  10.0          5.0         58.0  \n",
       "13  1339.0   730.0  10.0          2.0         59.0  \n",
       "14  1102.0    10.0   8.0         57.0          4.0  "
      ]
     },
     "execution_count": 257,
     "metadata": {},
     "output_type": "execute_result"
    }
   ],
   "source": [
    "airquality_comma = pd.read_csv(filepath, delimiter=';|,',engine='python',index_col=False)\n",
    "airquality_comma.head(15)"
   ]
  },
  {
   "cell_type": "markdown",
   "metadata": {},
   "source": [
    "We've made our data a lot more usable in just one line of code. Some pointers:\n",
    "- the delimiter parameter in read_csv is capable of taking a \"regex\", which allows you to, in this case, insert a boolean expression for which characters are delimiters (the semicolon OR the comma) \n",
    "- the 'python' engine parameter enables us to use a regex delimiter\n",
    "- index_col is set to False because our first line of column names does not terminate in a delimiter. \n",
    "\n",
    "We're not going to use airquality_comma because we know that the comma is not a delimiter, but we've figured out how to manipulate delimiters somewhat in the event that it was. \n",
    "\n",
    "\n"
   ]
  },
  {
   "cell_type": "code",
   "execution_count": 258,
   "metadata": {
    "collapsed": false
   },
   "outputs": [],
   "source": [
    "del (airquality_comma)\n"
   ]
  },
  {
   "cell_type": "markdown",
   "metadata": {},
   "source": [
    "You might still be wondering how to fix the issue with the commas for decimals. It turns out it's just one more parameter in read_csv. We'll also delete the last two columns pandas has interpreted, because they contain no information. "
   ]
  },
  {
   "cell_type": "code",
   "execution_count": 324,
   "metadata": {
    "collapsed": false,
    "scrolled": true
   },
   "outputs": [
    {
     "data": {
      "text/html": [
       "<div>\n",
       "<style>\n",
       "    .dataframe thead tr:only-child th {\n",
       "        text-align: right;\n",
       "    }\n",
       "\n",
       "    .dataframe thead th {\n",
       "        text-align: left;\n",
       "    }\n",
       "\n",
       "    .dataframe tbody tr th {\n",
       "        vertical-align: top;\n",
       "    }\n",
       "</style>\n",
       "<table border=\"1\" class=\"dataframe\">\n",
       "  <thead>\n",
       "    <tr style=\"text-align: right;\">\n",
       "      <th></th>\n",
       "      <th>Date</th>\n",
       "      <th>Time</th>\n",
       "      <th>CO(GT)</th>\n",
       "      <th>PT08.S1(CO)</th>\n",
       "      <th>NMHC(GT)</th>\n",
       "      <th>C6H6(GT)</th>\n",
       "      <th>PT08.S2(NMHC)</th>\n",
       "      <th>NOx(GT)</th>\n",
       "      <th>PT08.S3(NOx)</th>\n",
       "      <th>NO2(GT)</th>\n",
       "      <th>PT08.S4(NO2)</th>\n",
       "      <th>PT08.S5(O3)</th>\n",
       "      <th>T</th>\n",
       "      <th>RH</th>\n",
       "      <th>AH</th>\n",
       "    </tr>\n",
       "  </thead>\n",
       "  <tbody>\n",
       "    <tr>\n",
       "      <th>0</th>\n",
       "      <td>10/03/2004</td>\n",
       "      <td>18.00.00</td>\n",
       "      <td>2.6</td>\n",
       "      <td>1360.0</td>\n",
       "      <td>150.0</td>\n",
       "      <td>11.9</td>\n",
       "      <td>1046.0</td>\n",
       "      <td>166.0</td>\n",
       "      <td>1056.0</td>\n",
       "      <td>113.0</td>\n",
       "      <td>1692.0</td>\n",
       "      <td>1268.0</td>\n",
       "      <td>13.6</td>\n",
       "      <td>48.9</td>\n",
       "      <td>0.7578</td>\n",
       "    </tr>\n",
       "    <tr>\n",
       "      <th>1</th>\n",
       "      <td>10/03/2004</td>\n",
       "      <td>19.00.00</td>\n",
       "      <td>2.0</td>\n",
       "      <td>1292.0</td>\n",
       "      <td>112.0</td>\n",
       "      <td>9.4</td>\n",
       "      <td>955.0</td>\n",
       "      <td>103.0</td>\n",
       "      <td>1174.0</td>\n",
       "      <td>92.0</td>\n",
       "      <td>1559.0</td>\n",
       "      <td>972.0</td>\n",
       "      <td>13.3</td>\n",
       "      <td>47.7</td>\n",
       "      <td>0.7255</td>\n",
       "    </tr>\n",
       "    <tr>\n",
       "      <th>2</th>\n",
       "      <td>10/03/2004</td>\n",
       "      <td>20.00.00</td>\n",
       "      <td>2.2</td>\n",
       "      <td>1402.0</td>\n",
       "      <td>88.0</td>\n",
       "      <td>9.0</td>\n",
       "      <td>939.0</td>\n",
       "      <td>131.0</td>\n",
       "      <td>1140.0</td>\n",
       "      <td>114.0</td>\n",
       "      <td>1555.0</td>\n",
       "      <td>1074.0</td>\n",
       "      <td>11.9</td>\n",
       "      <td>54.0</td>\n",
       "      <td>0.7502</td>\n",
       "    </tr>\n",
       "    <tr>\n",
       "      <th>3</th>\n",
       "      <td>10/03/2004</td>\n",
       "      <td>21.00.00</td>\n",
       "      <td>2.2</td>\n",
       "      <td>1376.0</td>\n",
       "      <td>80.0</td>\n",
       "      <td>9.2</td>\n",
       "      <td>948.0</td>\n",
       "      <td>172.0</td>\n",
       "      <td>1092.0</td>\n",
       "      <td>122.0</td>\n",
       "      <td>1584.0</td>\n",
       "      <td>1203.0</td>\n",
       "      <td>11.0</td>\n",
       "      <td>60.0</td>\n",
       "      <td>0.7867</td>\n",
       "    </tr>\n",
       "    <tr>\n",
       "      <th>4</th>\n",
       "      <td>10/03/2004</td>\n",
       "      <td>22.00.00</td>\n",
       "      <td>1.6</td>\n",
       "      <td>1272.0</td>\n",
       "      <td>51.0</td>\n",
       "      <td>6.5</td>\n",
       "      <td>836.0</td>\n",
       "      <td>131.0</td>\n",
       "      <td>1205.0</td>\n",
       "      <td>116.0</td>\n",
       "      <td>1490.0</td>\n",
       "      <td>1110.0</td>\n",
       "      <td>11.2</td>\n",
       "      <td>59.6</td>\n",
       "      <td>0.7888</td>\n",
       "    </tr>\n",
       "    <tr>\n",
       "      <th>5</th>\n",
       "      <td>10/03/2004</td>\n",
       "      <td>23.00.00</td>\n",
       "      <td>1.2</td>\n",
       "      <td>1197.0</td>\n",
       "      <td>38.0</td>\n",
       "      <td>4.7</td>\n",
       "      <td>750.0</td>\n",
       "      <td>89.0</td>\n",
       "      <td>1337.0</td>\n",
       "      <td>96.0</td>\n",
       "      <td>1393.0</td>\n",
       "      <td>949.0</td>\n",
       "      <td>11.2</td>\n",
       "      <td>59.2</td>\n",
       "      <td>0.7848</td>\n",
       "    </tr>\n",
       "    <tr>\n",
       "      <th>6</th>\n",
       "      <td>11/03/2004</td>\n",
       "      <td>00.00.00</td>\n",
       "      <td>1.2</td>\n",
       "      <td>1185.0</td>\n",
       "      <td>31.0</td>\n",
       "      <td>3.6</td>\n",
       "      <td>690.0</td>\n",
       "      <td>62.0</td>\n",
       "      <td>1462.0</td>\n",
       "      <td>77.0</td>\n",
       "      <td>1333.0</td>\n",
       "      <td>733.0</td>\n",
       "      <td>11.3</td>\n",
       "      <td>56.8</td>\n",
       "      <td>0.7603</td>\n",
       "    </tr>\n",
       "    <tr>\n",
       "      <th>7</th>\n",
       "      <td>11/03/2004</td>\n",
       "      <td>01.00.00</td>\n",
       "      <td>1.0</td>\n",
       "      <td>1136.0</td>\n",
       "      <td>31.0</td>\n",
       "      <td>3.3</td>\n",
       "      <td>672.0</td>\n",
       "      <td>62.0</td>\n",
       "      <td>1453.0</td>\n",
       "      <td>76.0</td>\n",
       "      <td>1333.0</td>\n",
       "      <td>730.0</td>\n",
       "      <td>10.7</td>\n",
       "      <td>60.0</td>\n",
       "      <td>0.7702</td>\n",
       "    </tr>\n",
       "    <tr>\n",
       "      <th>8</th>\n",
       "      <td>11/03/2004</td>\n",
       "      <td>02.00.00</td>\n",
       "      <td>0.9</td>\n",
       "      <td>1094.0</td>\n",
       "      <td>24.0</td>\n",
       "      <td>2.3</td>\n",
       "      <td>609.0</td>\n",
       "      <td>45.0</td>\n",
       "      <td>1579.0</td>\n",
       "      <td>60.0</td>\n",
       "      <td>1276.0</td>\n",
       "      <td>620.0</td>\n",
       "      <td>10.7</td>\n",
       "      <td>59.7</td>\n",
       "      <td>0.7648</td>\n",
       "    </tr>\n",
       "    <tr>\n",
       "      <th>9</th>\n",
       "      <td>11/03/2004</td>\n",
       "      <td>03.00.00</td>\n",
       "      <td>0.6</td>\n",
       "      <td>1010.0</td>\n",
       "      <td>19.0</td>\n",
       "      <td>1.7</td>\n",
       "      <td>561.0</td>\n",
       "      <td>-200.0</td>\n",
       "      <td>1705.0</td>\n",
       "      <td>-200.0</td>\n",
       "      <td>1235.0</td>\n",
       "      <td>501.0</td>\n",
       "      <td>10.3</td>\n",
       "      <td>60.2</td>\n",
       "      <td>0.7517</td>\n",
       "    </tr>\n",
       "    <tr>\n",
       "      <th>10</th>\n",
       "      <td>11/03/2004</td>\n",
       "      <td>04.00.00</td>\n",
       "      <td>-200.0</td>\n",
       "      <td>1011.0</td>\n",
       "      <td>14.0</td>\n",
       "      <td>1.3</td>\n",
       "      <td>527.0</td>\n",
       "      <td>21.0</td>\n",
       "      <td>1818.0</td>\n",
       "      <td>34.0</td>\n",
       "      <td>1197.0</td>\n",
       "      <td>445.0</td>\n",
       "      <td>10.1</td>\n",
       "      <td>60.5</td>\n",
       "      <td>0.7465</td>\n",
       "    </tr>\n",
       "    <tr>\n",
       "      <th>11</th>\n",
       "      <td>11/03/2004</td>\n",
       "      <td>05.00.00</td>\n",
       "      <td>0.7</td>\n",
       "      <td>1066.0</td>\n",
       "      <td>8.0</td>\n",
       "      <td>1.1</td>\n",
       "      <td>512.0</td>\n",
       "      <td>16.0</td>\n",
       "      <td>1918.0</td>\n",
       "      <td>28.0</td>\n",
       "      <td>1182.0</td>\n",
       "      <td>422.0</td>\n",
       "      <td>11.0</td>\n",
       "      <td>56.2</td>\n",
       "      <td>0.7366</td>\n",
       "    </tr>\n",
       "    <tr>\n",
       "      <th>12</th>\n",
       "      <td>11/03/2004</td>\n",
       "      <td>06.00.00</td>\n",
       "      <td>0.7</td>\n",
       "      <td>1052.0</td>\n",
       "      <td>16.0</td>\n",
       "      <td>1.6</td>\n",
       "      <td>553.0</td>\n",
       "      <td>34.0</td>\n",
       "      <td>1738.0</td>\n",
       "      <td>48.0</td>\n",
       "      <td>1221.0</td>\n",
       "      <td>472.0</td>\n",
       "      <td>10.5</td>\n",
       "      <td>58.1</td>\n",
       "      <td>0.7353</td>\n",
       "    </tr>\n",
       "    <tr>\n",
       "      <th>13</th>\n",
       "      <td>11/03/2004</td>\n",
       "      <td>07.00.00</td>\n",
       "      <td>1.1</td>\n",
       "      <td>1144.0</td>\n",
       "      <td>29.0</td>\n",
       "      <td>3.2</td>\n",
       "      <td>667.0</td>\n",
       "      <td>98.0</td>\n",
       "      <td>1490.0</td>\n",
       "      <td>82.0</td>\n",
       "      <td>1339.0</td>\n",
       "      <td>730.0</td>\n",
       "      <td>10.2</td>\n",
       "      <td>59.6</td>\n",
       "      <td>0.7417</td>\n",
       "    </tr>\n",
       "    <tr>\n",
       "      <th>14</th>\n",
       "      <td>11/03/2004</td>\n",
       "      <td>08.00.00</td>\n",
       "      <td>2.0</td>\n",
       "      <td>1333.0</td>\n",
       "      <td>64.0</td>\n",
       "      <td>8.0</td>\n",
       "      <td>900.0</td>\n",
       "      <td>174.0</td>\n",
       "      <td>1136.0</td>\n",
       "      <td>112.0</td>\n",
       "      <td>1517.0</td>\n",
       "      <td>1102.0</td>\n",
       "      <td>10.8</td>\n",
       "      <td>57.4</td>\n",
       "      <td>0.7408</td>\n",
       "    </tr>\n",
       "  </tbody>\n",
       "</table>\n",
       "</div>"
      ],
      "text/plain": [
       "          Date      Time  CO(GT)  PT08.S1(CO)  NMHC(GT)  C6H6(GT)  \\\n",
       "0   10/03/2004  18.00.00     2.6       1360.0     150.0      11.9   \n",
       "1   10/03/2004  19.00.00     2.0       1292.0     112.0       9.4   \n",
       "2   10/03/2004  20.00.00     2.2       1402.0      88.0       9.0   \n",
       "3   10/03/2004  21.00.00     2.2       1376.0      80.0       9.2   \n",
       "4   10/03/2004  22.00.00     1.6       1272.0      51.0       6.5   \n",
       "5   10/03/2004  23.00.00     1.2       1197.0      38.0       4.7   \n",
       "6   11/03/2004  00.00.00     1.2       1185.0      31.0       3.6   \n",
       "7   11/03/2004  01.00.00     1.0       1136.0      31.0       3.3   \n",
       "8   11/03/2004  02.00.00     0.9       1094.0      24.0       2.3   \n",
       "9   11/03/2004  03.00.00     0.6       1010.0      19.0       1.7   \n",
       "10  11/03/2004  04.00.00  -200.0       1011.0      14.0       1.3   \n",
       "11  11/03/2004  05.00.00     0.7       1066.0       8.0       1.1   \n",
       "12  11/03/2004  06.00.00     0.7       1052.0      16.0       1.6   \n",
       "13  11/03/2004  07.00.00     1.1       1144.0      29.0       3.2   \n",
       "14  11/03/2004  08.00.00     2.0       1333.0      64.0       8.0   \n",
       "\n",
       "    PT08.S2(NMHC)  NOx(GT)  PT08.S3(NOx)  NO2(GT)  PT08.S4(NO2)  PT08.S5(O3)  \\\n",
       "0          1046.0    166.0        1056.0    113.0        1692.0       1268.0   \n",
       "1           955.0    103.0        1174.0     92.0        1559.0        972.0   \n",
       "2           939.0    131.0        1140.0    114.0        1555.0       1074.0   \n",
       "3           948.0    172.0        1092.0    122.0        1584.0       1203.0   \n",
       "4           836.0    131.0        1205.0    116.0        1490.0       1110.0   \n",
       "5           750.0     89.0        1337.0     96.0        1393.0        949.0   \n",
       "6           690.0     62.0        1462.0     77.0        1333.0        733.0   \n",
       "7           672.0     62.0        1453.0     76.0        1333.0        730.0   \n",
       "8           609.0     45.0        1579.0     60.0        1276.0        620.0   \n",
       "9           561.0   -200.0        1705.0   -200.0        1235.0        501.0   \n",
       "10          527.0     21.0        1818.0     34.0        1197.0        445.0   \n",
       "11          512.0     16.0        1918.0     28.0        1182.0        422.0   \n",
       "12          553.0     34.0        1738.0     48.0        1221.0        472.0   \n",
       "13          667.0     98.0        1490.0     82.0        1339.0        730.0   \n",
       "14          900.0    174.0        1136.0    112.0        1517.0       1102.0   \n",
       "\n",
       "       T    RH      AH  \n",
       "0   13.6  48.9  0.7578  \n",
       "1   13.3  47.7  0.7255  \n",
       "2   11.9  54.0  0.7502  \n",
       "3   11.0  60.0  0.7867  \n",
       "4   11.2  59.6  0.7888  \n",
       "5   11.2  59.2  0.7848  \n",
       "6   11.3  56.8  0.7603  \n",
       "7   10.7  60.0  0.7702  \n",
       "8   10.7  59.7  0.7648  \n",
       "9   10.3  60.2  0.7517  \n",
       "10  10.1  60.5  0.7465  \n",
       "11  11.0  56.2  0.7366  \n",
       "12  10.5  58.1  0.7353  \n",
       "13  10.2  59.6  0.7417  \n",
       "14  10.8  57.4  0.7408  "
      ]
     },
     "execution_count": 324,
     "metadata": {},
     "output_type": "execute_result"
    }
   ],
   "source": [
    "airquality = pd.read_csv(filepath,sep=',',delimiter=';',decimal=',')\n",
    "del (airquality['Unnamed: 15'])\n",
    "airquality.pop('Unnamed: 16') #There are a couple ways to get rid of the columns\n",
    "airquality.head(15)"
   ]
  },
  {
   "cell_type": "markdown",
   "metadata": {},
   "source": [
    "<h1 style=\"font-size:2em;color:#2467C0\">Data Structures </h1>"
   ]
  },
  {
   "cell_type": "markdown",
   "metadata": {},
   "source": [
    "<h1 style=\"font-size:1.5em;color:#2467C0\">Series</h1>"
   ]
  },
  {
   "cell_type": "markdown",
   "metadata": {},
   "source": [
    "Next, let's observe how pandas interprets our data as Series and DataFrame objects, and how we can leverage that to get information about the data. "
   ]
  },
  {
   "cell_type": "code",
   "execution_count": 325,
   "metadata": {
    "collapsed": false
   },
   "outputs": [
    {
     "data": {
      "text/plain": [
       "pandas.core.series.Series"
      ]
     },
     "execution_count": 325,
     "metadata": {},
     "output_type": "execute_result"
    }
   ],
   "source": [
    "#Extract 0th row: notice that it is infact a Series\n",
    "\n",
    "row_0 = airquality.iloc[0]\n",
    "type(row_0)"
   ]
  },
  {
   "cell_type": "code",
   "execution_count": 326,
   "metadata": {
    "collapsed": false
   },
   "outputs": [
    {
     "name": "stdout",
     "output_type": "stream",
     "text": [
      "Date             10/03/2004\n",
      "Time               18.00.00\n",
      "CO(GT)                  2.6\n",
      "PT08.S1(CO)            1360\n",
      "NMHC(GT)                150\n",
      "C6H6(GT)               11.9\n",
      "PT08.S2(NMHC)          1046\n",
      "NOx(GT)                 166\n",
      "PT08.S3(NOx)           1056\n",
      "NO2(GT)                 113\n",
      "PT08.S4(NO2)           1692\n",
      "PT08.S5(O3)            1268\n",
      "T                      13.6\n",
      "RH                     48.9\n",
      "AH                   0.7578\n",
      "Name: 0, dtype: object\n"
     ]
    }
   ],
   "source": [
    "print(row_0)"
   ]
  },
  {
   "cell_type": "code",
   "execution_count": 327,
   "metadata": {
    "collapsed": false
   },
   "outputs": [
    {
     "data": {
      "text/plain": [
       "Index(['Date', 'Time', 'CO(GT)', 'PT08.S1(CO)', 'NMHC(GT)', 'C6H6(GT)',\n",
       "       'PT08.S2(NMHC)', 'NOx(GT)', 'PT08.S3(NOx)', 'NO2(GT)', 'PT08.S4(NO2)',\n",
       "       'PT08.S5(O3)', 'T', 'RH', 'AH'],\n",
       "      dtype='object')"
      ]
     },
     "execution_count": 327,
     "metadata": {},
     "output_type": "execute_result"
    }
   ],
   "source": [
    "row_0.index"
   ]
  },
  {
   "cell_type": "code",
   "execution_count": 328,
   "metadata": {
    "collapsed": false
   },
   "outputs": [
    {
     "data": {
      "text/plain": [
       "'18.00.00'"
      ]
     },
     "execution_count": 328,
     "metadata": {},
     "output_type": "execute_result"
    }
   ],
   "source": [
    "row_0['Time']"
   ]
  },
  {
   "cell_type": "code",
   "execution_count": 329,
   "metadata": {
    "collapsed": false
   },
   "outputs": [
    {
     "data": {
      "text/plain": [
       "True"
      ]
     },
     "execution_count": 329,
     "metadata": {},
     "output_type": "execute_result"
    }
   ],
   "source": [
    "'RH' in row_0"
   ]
  },
  {
   "cell_type": "code",
   "execution_count": 330,
   "metadata": {
    "collapsed": false
   },
   "outputs": [
    {
     "data": {
      "text/plain": [
       "0"
      ]
     },
     "execution_count": 330,
     "metadata": {},
     "output_type": "execute_result"
    }
   ],
   "source": [
    "row_0.name"
   ]
  },
  {
   "cell_type": "code",
   "execution_count": 331,
   "metadata": {
    "collapsed": false
   },
   "outputs": [
    {
     "data": {
      "text/plain": [
       "'first_row'"
      ]
     },
     "execution_count": 331,
     "metadata": {},
     "output_type": "execute_result"
    }
   ],
   "source": [
    "row_0 = row_0.rename('first_row')\n",
    "row_0.name"
   ]
  },
  {
   "cell_type": "markdown",
   "metadata": {},
   "source": [
    "<h1 style=\"font-size:1.5em;color:#2467C0\">DataFrames </h1>"
   ]
  },
  {
   "cell_type": "code",
   "execution_count": 332,
   "metadata": {
    "collapsed": false
   },
   "outputs": [
    {
     "data": {
      "text/html": [
       "<div>\n",
       "<style>\n",
       "    .dataframe thead tr:only-child th {\n",
       "        text-align: right;\n",
       "    }\n",
       "\n",
       "    .dataframe thead th {\n",
       "        text-align: left;\n",
       "    }\n",
       "\n",
       "    .dataframe tbody tr th {\n",
       "        vertical-align: top;\n",
       "    }\n",
       "</style>\n",
       "<table border=\"1\" class=\"dataframe\">\n",
       "  <thead>\n",
       "    <tr style=\"text-align: right;\">\n",
       "      <th></th>\n",
       "      <th>Date</th>\n",
       "      <th>Time</th>\n",
       "      <th>CO(GT)</th>\n",
       "      <th>PT08.S1(CO)</th>\n",
       "      <th>NMHC(GT)</th>\n",
       "      <th>C6H6(GT)</th>\n",
       "      <th>PT08.S2(NMHC)</th>\n",
       "      <th>NOx(GT)</th>\n",
       "      <th>PT08.S3(NOx)</th>\n",
       "      <th>NO2(GT)</th>\n",
       "      <th>PT08.S4(NO2)</th>\n",
       "      <th>PT08.S5(O3)</th>\n",
       "      <th>T</th>\n",
       "      <th>RH</th>\n",
       "      <th>AH</th>\n",
       "    </tr>\n",
       "  </thead>\n",
       "  <tbody>\n",
       "    <tr>\n",
       "      <th>0</th>\n",
       "      <td>10/03/2004</td>\n",
       "      <td>18.00.00</td>\n",
       "      <td>2.6</td>\n",
       "      <td>1360.0</td>\n",
       "      <td>150.0</td>\n",
       "      <td>11.9</td>\n",
       "      <td>1046.0</td>\n",
       "      <td>166.0</td>\n",
       "      <td>1056.0</td>\n",
       "      <td>113.0</td>\n",
       "      <td>1692.0</td>\n",
       "      <td>1268.0</td>\n",
       "      <td>13.6</td>\n",
       "      <td>48.9</td>\n",
       "      <td>0.7578</td>\n",
       "    </tr>\n",
       "    <tr>\n",
       "      <th>1</th>\n",
       "      <td>10/03/2004</td>\n",
       "      <td>19.00.00</td>\n",
       "      <td>2.0</td>\n",
       "      <td>1292.0</td>\n",
       "      <td>112.0</td>\n",
       "      <td>9.4</td>\n",
       "      <td>955.0</td>\n",
       "      <td>103.0</td>\n",
       "      <td>1174.0</td>\n",
       "      <td>92.0</td>\n",
       "      <td>1559.0</td>\n",
       "      <td>972.0</td>\n",
       "      <td>13.3</td>\n",
       "      <td>47.7</td>\n",
       "      <td>0.7255</td>\n",
       "    </tr>\n",
       "    <tr>\n",
       "      <th>2</th>\n",
       "      <td>10/03/2004</td>\n",
       "      <td>20.00.00</td>\n",
       "      <td>2.2</td>\n",
       "      <td>1402.0</td>\n",
       "      <td>88.0</td>\n",
       "      <td>9.0</td>\n",
       "      <td>939.0</td>\n",
       "      <td>131.0</td>\n",
       "      <td>1140.0</td>\n",
       "      <td>114.0</td>\n",
       "      <td>1555.0</td>\n",
       "      <td>1074.0</td>\n",
       "      <td>11.9</td>\n",
       "      <td>54.0</td>\n",
       "      <td>0.7502</td>\n",
       "    </tr>\n",
       "    <tr>\n",
       "      <th>3</th>\n",
       "      <td>10/03/2004</td>\n",
       "      <td>21.00.00</td>\n",
       "      <td>2.2</td>\n",
       "      <td>1376.0</td>\n",
       "      <td>80.0</td>\n",
       "      <td>9.2</td>\n",
       "      <td>948.0</td>\n",
       "      <td>172.0</td>\n",
       "      <td>1092.0</td>\n",
       "      <td>122.0</td>\n",
       "      <td>1584.0</td>\n",
       "      <td>1203.0</td>\n",
       "      <td>11.0</td>\n",
       "      <td>60.0</td>\n",
       "      <td>0.7867</td>\n",
       "    </tr>\n",
       "    <tr>\n",
       "      <th>4</th>\n",
       "      <td>10/03/2004</td>\n",
       "      <td>22.00.00</td>\n",
       "      <td>1.6</td>\n",
       "      <td>1272.0</td>\n",
       "      <td>51.0</td>\n",
       "      <td>6.5</td>\n",
       "      <td>836.0</td>\n",
       "      <td>131.0</td>\n",
       "      <td>1205.0</td>\n",
       "      <td>116.0</td>\n",
       "      <td>1490.0</td>\n",
       "      <td>1110.0</td>\n",
       "      <td>11.2</td>\n",
       "      <td>59.6</td>\n",
       "      <td>0.7888</td>\n",
       "    </tr>\n",
       "  </tbody>\n",
       "</table>\n",
       "</div>"
      ],
      "text/plain": [
       "         Date      Time  CO(GT)  PT08.S1(CO)  NMHC(GT)  C6H6(GT)  \\\n",
       "0  10/03/2004  18.00.00     2.6       1360.0     150.0      11.9   \n",
       "1  10/03/2004  19.00.00     2.0       1292.0     112.0       9.4   \n",
       "2  10/03/2004  20.00.00     2.2       1402.0      88.0       9.0   \n",
       "3  10/03/2004  21.00.00     2.2       1376.0      80.0       9.2   \n",
       "4  10/03/2004  22.00.00     1.6       1272.0      51.0       6.5   \n",
       "\n",
       "   PT08.S2(NMHC)  NOx(GT)  PT08.S3(NOx)  NO2(GT)  PT08.S4(NO2)  PT08.S5(O3)  \\\n",
       "0         1046.0    166.0        1056.0    113.0        1692.0       1268.0   \n",
       "1          955.0    103.0        1174.0     92.0        1559.0        972.0   \n",
       "2          939.0    131.0        1140.0    114.0        1555.0       1074.0   \n",
       "3          948.0    172.0        1092.0    122.0        1584.0       1203.0   \n",
       "4          836.0    131.0        1205.0    116.0        1490.0       1110.0   \n",
       "\n",
       "      T    RH      AH  \n",
       "0  13.6  48.9  0.7578  \n",
       "1  13.3  47.7  0.7255  \n",
       "2  11.9  54.0  0.7502  \n",
       "3  11.0  60.0  0.7867  \n",
       "4  11.2  59.6  0.7888  "
      ]
     },
     "execution_count": 332,
     "metadata": {},
     "output_type": "execute_result"
    }
   ],
   "source": [
    "airquality.head()"
   ]
  },
  {
   "cell_type": "code",
   "execution_count": 333,
   "metadata": {
    "collapsed": false
   },
   "outputs": [
    {
     "data": {
      "text/plain": [
       "RangeIndex(start=0, stop=9471, step=1)"
      ]
     },
     "execution_count": 333,
     "metadata": {},
     "output_type": "execute_result"
    }
   ],
   "source": [
    "airquality.index"
   ]
  },
  {
   "cell_type": "code",
   "execution_count": 334,
   "metadata": {
    "collapsed": false
   },
   "outputs": [
    {
     "data": {
      "text/plain": [
       "Index(['Date', 'Time', 'CO(GT)', 'PT08.S1(CO)', 'NMHC(GT)', 'C6H6(GT)',\n",
       "       'PT08.S2(NMHC)', 'NOx(GT)', 'PT08.S3(NOx)', 'NO2(GT)', 'PT08.S4(NO2)',\n",
       "       'PT08.S5(O3)', 'T', 'RH', 'AH'],\n",
       "      dtype='object')"
      ]
     },
     "execution_count": 334,
     "metadata": {},
     "output_type": "execute_result"
    }
   ],
   "source": [
    "airquality.columns"
   ]
  },
  {
   "cell_type": "code",
   "execution_count": 335,
   "metadata": {
    "collapsed": false
   },
   "outputs": [
    {
     "data": {
      "text/html": [
       "<div>\n",
       "<style>\n",
       "    .dataframe thead tr:only-child th {\n",
       "        text-align: right;\n",
       "    }\n",
       "\n",
       "    .dataframe thead th {\n",
       "        text-align: left;\n",
       "    }\n",
       "\n",
       "    .dataframe tbody tr th {\n",
       "        vertical-align: top;\n",
       "    }\n",
       "</style>\n",
       "<table border=\"1\" class=\"dataframe\">\n",
       "  <thead>\n",
       "    <tr style=\"text-align: right;\">\n",
       "      <th></th>\n",
       "      <th>Date</th>\n",
       "      <th>Time</th>\n",
       "      <th>CO(GT)</th>\n",
       "      <th>PT08.S1(CO)</th>\n",
       "      <th>NMHC(GT)</th>\n",
       "      <th>C6H6(GT)</th>\n",
       "      <th>PT08.S2(NMHC)</th>\n",
       "      <th>NOx(GT)</th>\n",
       "      <th>PT08.S3(NOx)</th>\n",
       "      <th>NO2(GT)</th>\n",
       "      <th>PT08.S4(NO2)</th>\n",
       "      <th>PT08.S5(O3)</th>\n",
       "      <th>T</th>\n",
       "      <th>RH</th>\n",
       "      <th>AH</th>\n",
       "    </tr>\n",
       "  </thead>\n",
       "  <tbody>\n",
       "    <tr>\n",
       "      <th>0</th>\n",
       "      <td>10/03/2004</td>\n",
       "      <td>18.00.00</td>\n",
       "      <td>2.6</td>\n",
       "      <td>1360.0</td>\n",
       "      <td>150.0</td>\n",
       "      <td>11.9</td>\n",
       "      <td>1046.0</td>\n",
       "      <td>166.0</td>\n",
       "      <td>1056.0</td>\n",
       "      <td>113.0</td>\n",
       "      <td>1692.0</td>\n",
       "      <td>1268.0</td>\n",
       "      <td>13.6</td>\n",
       "      <td>48.9</td>\n",
       "      <td>0.7578</td>\n",
       "    </tr>\n",
       "    <tr>\n",
       "      <th>11</th>\n",
       "      <td>11/03/2004</td>\n",
       "      <td>05.00.00</td>\n",
       "      <td>0.7</td>\n",
       "      <td>1066.0</td>\n",
       "      <td>8.0</td>\n",
       "      <td>1.1</td>\n",
       "      <td>512.0</td>\n",
       "      <td>16.0</td>\n",
       "      <td>1918.0</td>\n",
       "      <td>28.0</td>\n",
       "      <td>1182.0</td>\n",
       "      <td>422.0</td>\n",
       "      <td>11.0</td>\n",
       "      <td>56.2</td>\n",
       "      <td>0.7366</td>\n",
       "    </tr>\n",
       "    <tr>\n",
       "      <th>2000</th>\n",
       "      <td>02/06/2004</td>\n",
       "      <td>02.00.00</td>\n",
       "      <td>-200.0</td>\n",
       "      <td>887.0</td>\n",
       "      <td>-200.0</td>\n",
       "      <td>4.9</td>\n",
       "      <td>758.0</td>\n",
       "      <td>43.0</td>\n",
       "      <td>1094.0</td>\n",
       "      <td>38.0</td>\n",
       "      <td>1622.0</td>\n",
       "      <td>804.0</td>\n",
       "      <td>19.1</td>\n",
       "      <td>69.0</td>\n",
       "      <td>1.5043</td>\n",
       "    </tr>\n",
       "  </tbody>\n",
       "</table>\n",
       "</div>"
      ],
      "text/plain": [
       "            Date      Time  CO(GT)  PT08.S1(CO)  NMHC(GT)  C6H6(GT)  \\\n",
       "0     10/03/2004  18.00.00     2.6       1360.0     150.0      11.9   \n",
       "11    11/03/2004  05.00.00     0.7       1066.0       8.0       1.1   \n",
       "2000  02/06/2004  02.00.00  -200.0        887.0    -200.0       4.9   \n",
       "\n",
       "      PT08.S2(NMHC)  NOx(GT)  PT08.S3(NOx)  NO2(GT)  PT08.S4(NO2)  \\\n",
       "0            1046.0    166.0        1056.0    113.0        1692.0   \n",
       "11            512.0     16.0        1918.0     28.0        1182.0   \n",
       "2000          758.0     43.0        1094.0     38.0        1622.0   \n",
       "\n",
       "      PT08.S5(O3)     T    RH      AH  \n",
       "0          1268.0  13.6  48.9  0.7578  \n",
       "11          422.0  11.0  56.2  0.7366  \n",
       "2000        804.0  19.1  69.0  1.5043  "
      ]
     },
     "execution_count": 335,
     "metadata": {},
     "output_type": "execute_result"
    }
   ],
   "source": [
    "# Extract row 0, 11, 2000 from DataFrame\n",
    "\n",
    "airquality.iloc[ [0,11,2000] ]"
   ]
  },
  {
   "cell_type": "markdown",
   "metadata": {},
   "source": [
    "<h1 style=\"font-size:2em;color:#2467C0\">Descriptive Statistics</h1>\n",
    "\n",
    "Pandas also provides some basic quantitative functions to understand our data. "
   ]
  },
  {
   "cell_type": "code",
   "execution_count": 336,
   "metadata": {
    "collapsed": false
   },
   "outputs": [
    {
     "data": {
      "text/plain": [
       "count    9357.000000\n",
       "mean       58.148873\n",
       "std       126.940455\n",
       "min      -200.000000\n",
       "25%        53.000000\n",
       "50%        96.000000\n",
       "75%       133.000000\n",
       "max       340.000000\n",
       "Name: NO2(GT), dtype: float64"
      ]
     },
     "execution_count": 336,
     "metadata": {},
     "output_type": "execute_result"
    }
   ],
   "source": [
    "airquality['NO2(GT)'].describe()"
   ]
  },
  {
   "cell_type": "code",
   "execution_count": 337,
   "metadata": {
    "collapsed": false
   },
   "outputs": [
    {
     "data": {
      "text/html": [
       "<div>\n",
       "<style>\n",
       "    .dataframe thead tr:only-child th {\n",
       "        text-align: right;\n",
       "    }\n",
       "\n",
       "    .dataframe thead th {\n",
       "        text-align: left;\n",
       "    }\n",
       "\n",
       "    .dataframe tbody tr th {\n",
       "        vertical-align: top;\n",
       "    }\n",
       "</style>\n",
       "<table border=\"1\" class=\"dataframe\">\n",
       "  <thead>\n",
       "    <tr style=\"text-align: right;\">\n",
       "      <th></th>\n",
       "      <th>CO(GT)</th>\n",
       "      <th>PT08.S1(CO)</th>\n",
       "      <th>NMHC(GT)</th>\n",
       "      <th>C6H6(GT)</th>\n",
       "      <th>PT08.S2(NMHC)</th>\n",
       "      <th>NOx(GT)</th>\n",
       "      <th>PT08.S3(NOx)</th>\n",
       "      <th>NO2(GT)</th>\n",
       "      <th>PT08.S4(NO2)</th>\n",
       "      <th>PT08.S5(O3)</th>\n",
       "      <th>T</th>\n",
       "      <th>RH</th>\n",
       "      <th>AH</th>\n",
       "    </tr>\n",
       "  </thead>\n",
       "  <tbody>\n",
       "    <tr>\n",
       "      <th>count</th>\n",
       "      <td>9357.000000</td>\n",
       "      <td>9357.000000</td>\n",
       "      <td>9357.000000</td>\n",
       "      <td>9357.000000</td>\n",
       "      <td>9357.000000</td>\n",
       "      <td>9357.000000</td>\n",
       "      <td>9357.000000</td>\n",
       "      <td>9357.000000</td>\n",
       "      <td>9357.000000</td>\n",
       "      <td>9357.000000</td>\n",
       "      <td>9357.000000</td>\n",
       "      <td>9357.000000</td>\n",
       "      <td>9357.000000</td>\n",
       "    </tr>\n",
       "    <tr>\n",
       "      <th>mean</th>\n",
       "      <td>-34.207524</td>\n",
       "      <td>1048.990061</td>\n",
       "      <td>-159.090093</td>\n",
       "      <td>1.865683</td>\n",
       "      <td>894.595276</td>\n",
       "      <td>168.616971</td>\n",
       "      <td>794.990168</td>\n",
       "      <td>58.148873</td>\n",
       "      <td>1391.479641</td>\n",
       "      <td>975.072032</td>\n",
       "      <td>9.778305</td>\n",
       "      <td>39.485380</td>\n",
       "      <td>-6.837604</td>\n",
       "    </tr>\n",
       "    <tr>\n",
       "      <th>std</th>\n",
       "      <td>77.657170</td>\n",
       "      <td>329.832710</td>\n",
       "      <td>139.789093</td>\n",
       "      <td>41.380206</td>\n",
       "      <td>342.333252</td>\n",
       "      <td>257.433866</td>\n",
       "      <td>321.993552</td>\n",
       "      <td>126.940455</td>\n",
       "      <td>467.210125</td>\n",
       "      <td>456.938184</td>\n",
       "      <td>43.203623</td>\n",
       "      <td>51.216145</td>\n",
       "      <td>38.976670</td>\n",
       "    </tr>\n",
       "    <tr>\n",
       "      <th>min</th>\n",
       "      <td>-200.000000</td>\n",
       "      <td>-200.000000</td>\n",
       "      <td>-200.000000</td>\n",
       "      <td>-200.000000</td>\n",
       "      <td>-200.000000</td>\n",
       "      <td>-200.000000</td>\n",
       "      <td>-200.000000</td>\n",
       "      <td>-200.000000</td>\n",
       "      <td>-200.000000</td>\n",
       "      <td>-200.000000</td>\n",
       "      <td>-200.000000</td>\n",
       "      <td>-200.000000</td>\n",
       "      <td>-200.000000</td>\n",
       "    </tr>\n",
       "    <tr>\n",
       "      <th>25%</th>\n",
       "      <td>0.600000</td>\n",
       "      <td>921.000000</td>\n",
       "      <td>-200.000000</td>\n",
       "      <td>4.000000</td>\n",
       "      <td>711.000000</td>\n",
       "      <td>50.000000</td>\n",
       "      <td>637.000000</td>\n",
       "      <td>53.000000</td>\n",
       "      <td>1185.000000</td>\n",
       "      <td>700.000000</td>\n",
       "      <td>10.900000</td>\n",
       "      <td>34.100000</td>\n",
       "      <td>0.692300</td>\n",
       "    </tr>\n",
       "    <tr>\n",
       "      <th>50%</th>\n",
       "      <td>1.500000</td>\n",
       "      <td>1053.000000</td>\n",
       "      <td>-200.000000</td>\n",
       "      <td>7.900000</td>\n",
       "      <td>895.000000</td>\n",
       "      <td>141.000000</td>\n",
       "      <td>794.000000</td>\n",
       "      <td>96.000000</td>\n",
       "      <td>1446.000000</td>\n",
       "      <td>942.000000</td>\n",
       "      <td>17.200000</td>\n",
       "      <td>48.600000</td>\n",
       "      <td>0.976800</td>\n",
       "    </tr>\n",
       "    <tr>\n",
       "      <th>75%</th>\n",
       "      <td>2.600000</td>\n",
       "      <td>1221.000000</td>\n",
       "      <td>-200.000000</td>\n",
       "      <td>13.600000</td>\n",
       "      <td>1105.000000</td>\n",
       "      <td>284.000000</td>\n",
       "      <td>960.000000</td>\n",
       "      <td>133.000000</td>\n",
       "      <td>1662.000000</td>\n",
       "      <td>1255.000000</td>\n",
       "      <td>24.100000</td>\n",
       "      <td>61.900000</td>\n",
       "      <td>1.296200</td>\n",
       "    </tr>\n",
       "    <tr>\n",
       "      <th>max</th>\n",
       "      <td>11.900000</td>\n",
       "      <td>2040.000000</td>\n",
       "      <td>1189.000000</td>\n",
       "      <td>63.700000</td>\n",
       "      <td>2214.000000</td>\n",
       "      <td>1479.000000</td>\n",
       "      <td>2683.000000</td>\n",
       "      <td>340.000000</td>\n",
       "      <td>2775.000000</td>\n",
       "      <td>2523.000000</td>\n",
       "      <td>44.600000</td>\n",
       "      <td>88.700000</td>\n",
       "      <td>2.231000</td>\n",
       "    </tr>\n",
       "  </tbody>\n",
       "</table>\n",
       "</div>"
      ],
      "text/plain": [
       "            CO(GT)  PT08.S1(CO)     NMHC(GT)     C6H6(GT)  PT08.S2(NMHC)  \\\n",
       "count  9357.000000  9357.000000  9357.000000  9357.000000    9357.000000   \n",
       "mean    -34.207524  1048.990061  -159.090093     1.865683     894.595276   \n",
       "std      77.657170   329.832710   139.789093    41.380206     342.333252   \n",
       "min    -200.000000  -200.000000  -200.000000  -200.000000    -200.000000   \n",
       "25%       0.600000   921.000000  -200.000000     4.000000     711.000000   \n",
       "50%       1.500000  1053.000000  -200.000000     7.900000     895.000000   \n",
       "75%       2.600000  1221.000000  -200.000000    13.600000    1105.000000   \n",
       "max      11.900000  2040.000000  1189.000000    63.700000    2214.000000   \n",
       "\n",
       "           NOx(GT)  PT08.S3(NOx)      NO2(GT)  PT08.S4(NO2)  PT08.S5(O3)  \\\n",
       "count  9357.000000   9357.000000  9357.000000   9357.000000  9357.000000   \n",
       "mean    168.616971    794.990168    58.148873   1391.479641   975.072032   \n",
       "std     257.433866    321.993552   126.940455    467.210125   456.938184   \n",
       "min    -200.000000   -200.000000  -200.000000   -200.000000  -200.000000   \n",
       "25%      50.000000    637.000000    53.000000   1185.000000   700.000000   \n",
       "50%     141.000000    794.000000    96.000000   1446.000000   942.000000   \n",
       "75%     284.000000    960.000000   133.000000   1662.000000  1255.000000   \n",
       "max    1479.000000   2683.000000   340.000000   2775.000000  2523.000000   \n",
       "\n",
       "                 T           RH           AH  \n",
       "count  9357.000000  9357.000000  9357.000000  \n",
       "mean      9.778305    39.485380    -6.837604  \n",
       "std      43.203623    51.216145    38.976670  \n",
       "min    -200.000000  -200.000000  -200.000000  \n",
       "25%      10.900000    34.100000     0.692300  \n",
       "50%      17.200000    48.600000     0.976800  \n",
       "75%      24.100000    61.900000     1.296200  \n",
       "max      44.600000    88.700000     2.231000  "
      ]
     },
     "execution_count": 337,
     "metadata": {},
     "output_type": "execute_result"
    }
   ],
   "source": [
    "airquality.describe()"
   ]
  },
  {
   "cell_type": "code",
   "execution_count": 338,
   "metadata": {
    "collapsed": false
   },
   "outputs": [
    {
     "data": {
      "text/plain": [
       "-159.09009297851875"
      ]
     },
     "execution_count": 338,
     "metadata": {},
     "output_type": "execute_result"
    }
   ],
   "source": [
    "airquality['NMHC(GT)'].mean()"
   ]
  },
  {
   "cell_type": "code",
   "execution_count": 339,
   "metadata": {
    "collapsed": false
   },
   "outputs": [
    {
     "data": {
      "text/plain": [
       "CO(GT)            -34.207524\n",
       "PT08.S1(CO)      1048.990061\n",
       "NMHC(GT)         -159.090093\n",
       "C6H6(GT)            1.865683\n",
       "PT08.S2(NMHC)     894.595276\n",
       "NOx(GT)           168.616971\n",
       "PT08.S3(NOx)      794.990168\n",
       "NO2(GT)            58.148873\n",
       "PT08.S4(NO2)     1391.479641\n",
       "PT08.S5(O3)       975.072032\n",
       "T                   9.778305\n",
       "RH                 39.485380\n",
       "AH                 -6.837604\n",
       "dtype: float64"
      ]
     },
     "execution_count": 339,
     "metadata": {},
     "output_type": "execute_result"
    }
   ],
   "source": [
    "airquality.mean()"
   ]
  },
  {
   "cell_type": "code",
   "execution_count": 340,
   "metadata": {
    "collapsed": false
   },
   "outputs": [
    {
     "data": {
      "text/plain": [
       "-200.0"
      ]
     },
     "execution_count": 340,
     "metadata": {},
     "output_type": "execute_result"
    }
   ],
   "source": [
    "airquality['C6H6(GT)'].min()"
   ]
  },
  {
   "cell_type": "code",
   "execution_count": 341,
   "metadata": {
    "collapsed": false
   },
   "outputs": [
    {
     "data": {
      "text/plain": [
       "1479.0"
      ]
     },
     "execution_count": 341,
     "metadata": {},
     "output_type": "execute_result"
    }
   ],
   "source": [
    "airquality['NOx(GT)'].max()"
   ]
  },
  {
   "cell_type": "code",
   "execution_count": 342,
   "metadata": {
    "collapsed": false
   },
   "outputs": [
    {
     "data": {
      "text/plain": [
       "257.4338662910738"
      ]
     },
     "execution_count": 342,
     "metadata": {},
     "output_type": "execute_result"
    }
   ],
   "source": [
    "airquality['NOx(GT)'].std()"
   ]
  },
  {
   "cell_type": "code",
   "execution_count": 343,
   "metadata": {
    "collapsed": false
   },
   "outputs": [
    {
     "data": {
      "text/plain": [
       "0   -200.0\n",
       "dtype: float64"
      ]
     },
     "execution_count": 343,
     "metadata": {},
     "output_type": "execute_result"
    }
   ],
   "source": [
    "airquality['T'].mode()"
   ]
  },
  {
   "cell_type": "code",
   "execution_count": 344,
   "metadata": {
    "collapsed": false,
    "scrolled": true
   },
   "outputs": [
    {
     "data": {
      "text/html": [
       "<div>\n",
       "<style>\n",
       "    .dataframe thead tr:only-child th {\n",
       "        text-align: right;\n",
       "    }\n",
       "\n",
       "    .dataframe thead th {\n",
       "        text-align: left;\n",
       "    }\n",
       "\n",
       "    .dataframe tbody tr th {\n",
       "        vertical-align: top;\n",
       "    }\n",
       "</style>\n",
       "<table border=\"1\" class=\"dataframe\">\n",
       "  <thead>\n",
       "    <tr style=\"text-align: right;\">\n",
       "      <th></th>\n",
       "      <th>CO(GT)</th>\n",
       "      <th>PT08.S1(CO)</th>\n",
       "      <th>NMHC(GT)</th>\n",
       "      <th>C6H6(GT)</th>\n",
       "      <th>PT08.S2(NMHC)</th>\n",
       "      <th>NOx(GT)</th>\n",
       "      <th>PT08.S3(NOx)</th>\n",
       "      <th>NO2(GT)</th>\n",
       "      <th>PT08.S4(NO2)</th>\n",
       "      <th>PT08.S5(O3)</th>\n",
       "      <th>T</th>\n",
       "      <th>RH</th>\n",
       "      <th>AH</th>\n",
       "    </tr>\n",
       "  </thead>\n",
       "  <tbody>\n",
       "    <tr>\n",
       "      <th>CO(GT)</th>\n",
       "      <td>1.000000</td>\n",
       "      <td>0.041411</td>\n",
       "      <td>0.128351</td>\n",
       "      <td>-0.031378</td>\n",
       "      <td>0.029926</td>\n",
       "      <td>0.526451</td>\n",
       "      <td>-0.089981</td>\n",
       "      <td>0.671127</td>\n",
       "      <td>-0.073724</td>\n",
       "      <td>0.080310</td>\n",
       "      <td>-0.068939</td>\n",
       "      <td>-0.048227</td>\n",
       "      <td>-0.045892</td>\n",
       "    </tr>\n",
       "    <tr>\n",
       "      <th>PT08.S1(CO)</th>\n",
       "      <td>0.041411</td>\n",
       "      <td>1.000000</td>\n",
       "      <td>0.170007</td>\n",
       "      <td>0.852687</td>\n",
       "      <td>0.933102</td>\n",
       "      <td>0.277993</td>\n",
       "      <td>0.087019</td>\n",
       "      <td>0.154030</td>\n",
       "      <td>0.845149</td>\n",
       "      <td>0.892434</td>\n",
       "      <td>0.754844</td>\n",
       "      <td>0.745375</td>\n",
       "      <td>0.764903</td>\n",
       "    </tr>\n",
       "    <tr>\n",
       "      <th>NMHC(GT)</th>\n",
       "      <td>0.128351</td>\n",
       "      <td>0.170007</td>\n",
       "      <td>1.000000</td>\n",
       "      <td>0.037323</td>\n",
       "      <td>0.110104</td>\n",
       "      <td>-0.004427</td>\n",
       "      <td>0.048821</td>\n",
       "      <td>0.103307</td>\n",
       "      <td>0.162680</td>\n",
       "      <td>0.101185</td>\n",
       "      <td>-0.000009</td>\n",
       "      <td>0.008284</td>\n",
       "      <td>0.012500</td>\n",
       "    </tr>\n",
       "    <tr>\n",
       "      <th>C6H6(GT)</th>\n",
       "      <td>-0.031378</td>\n",
       "      <td>0.852687</td>\n",
       "      <td>0.037323</td>\n",
       "      <td>1.000000</td>\n",
       "      <td>0.767433</td>\n",
       "      <td>-0.001174</td>\n",
       "      <td>0.512193</td>\n",
       "      <td>-0.010992</td>\n",
       "      <td>0.774673</td>\n",
       "      <td>0.641334</td>\n",
       "      <td>0.971375</td>\n",
       "      <td>0.925062</td>\n",
       "      <td>0.984555</td>\n",
       "    </tr>\n",
       "    <tr>\n",
       "      <th>PT08.S2(NMHC)</th>\n",
       "      <td>0.029926</td>\n",
       "      <td>0.933102</td>\n",
       "      <td>0.110104</td>\n",
       "      <td>0.767433</td>\n",
       "      <td>1.000000</td>\n",
       "      <td>0.331272</td>\n",
       "      <td>-0.073667</td>\n",
       "      <td>0.176488</td>\n",
       "      <td>0.874782</td>\n",
       "      <td>0.909905</td>\n",
       "      <td>0.669025</td>\n",
       "      <td>0.585803</td>\n",
       "      <td>0.646572</td>\n",
       "    </tr>\n",
       "    <tr>\n",
       "      <th>NOx(GT)</th>\n",
       "      <td>0.526451</td>\n",
       "      <td>0.277993</td>\n",
       "      <td>-0.004427</td>\n",
       "      <td>-0.001174</td>\n",
       "      <td>0.331272</td>\n",
       "      <td>1.000000</td>\n",
       "      <td>-0.436084</td>\n",
       "      <td>0.817139</td>\n",
       "      <td>0.035546</td>\n",
       "      <td>0.461889</td>\n",
       "      <td>-0.138452</td>\n",
       "      <td>-0.053009</td>\n",
       "      <td>-0.095847</td>\n",
       "    </tr>\n",
       "    <tr>\n",
       "      <th>PT08.S3(NOx)</th>\n",
       "      <td>-0.089981</td>\n",
       "      <td>0.087019</td>\n",
       "      <td>0.048821</td>\n",
       "      <td>0.512193</td>\n",
       "      <td>-0.073667</td>\n",
       "      <td>-0.436084</td>\n",
       "      <td>1.000000</td>\n",
       "      <td>-0.256232</td>\n",
       "      <td>0.122734</td>\n",
       "      <td>-0.208865</td>\n",
       "      <td>0.588111</td>\n",
       "      <td>0.573549</td>\n",
       "      <td>0.621618</td>\n",
       "    </tr>\n",
       "    <tr>\n",
       "      <th>NO2(GT)</th>\n",
       "      <td>0.671127</td>\n",
       "      <td>0.154030</td>\n",
       "      <td>0.103307</td>\n",
       "      <td>-0.010992</td>\n",
       "      <td>0.176488</td>\n",
       "      <td>0.817139</td>\n",
       "      <td>-0.256232</td>\n",
       "      <td>1.000000</td>\n",
       "      <td>-0.022174</td>\n",
       "      <td>0.253439</td>\n",
       "      <td>-0.084104</td>\n",
       "      <td>-0.081305</td>\n",
       "      <td>-0.060440</td>\n",
       "    </tr>\n",
       "    <tr>\n",
       "      <th>PT08.S4(NO2)</th>\n",
       "      <td>-0.073724</td>\n",
       "      <td>0.845149</td>\n",
       "      <td>0.162680</td>\n",
       "      <td>0.774673</td>\n",
       "      <td>0.874782</td>\n",
       "      <td>0.035546</td>\n",
       "      <td>0.122734</td>\n",
       "      <td>-0.022174</td>\n",
       "      <td>1.000000</td>\n",
       "      <td>0.723690</td>\n",
       "      <td>0.755060</td>\n",
       "      <td>0.640707</td>\n",
       "      <td>0.691913</td>\n",
       "    </tr>\n",
       "    <tr>\n",
       "      <th>PT08.S5(O3)</th>\n",
       "      <td>0.080310</td>\n",
       "      <td>0.892434</td>\n",
       "      <td>0.101185</td>\n",
       "      <td>0.641334</td>\n",
       "      <td>0.909905</td>\n",
       "      <td>0.461889</td>\n",
       "      <td>-0.208865</td>\n",
       "      <td>0.253439</td>\n",
       "      <td>0.723690</td>\n",
       "      <td>1.000000</td>\n",
       "      <td>0.503700</td>\n",
       "      <td>0.524955</td>\n",
       "      <td>0.519467</td>\n",
       "    </tr>\n",
       "    <tr>\n",
       "      <th>T</th>\n",
       "      <td>-0.068939</td>\n",
       "      <td>0.754844</td>\n",
       "      <td>-0.000009</td>\n",
       "      <td>0.971375</td>\n",
       "      <td>0.669025</td>\n",
       "      <td>-0.138452</td>\n",
       "      <td>0.588111</td>\n",
       "      <td>-0.084104</td>\n",
       "      <td>0.755060</td>\n",
       "      <td>0.503700</td>\n",
       "      <td>1.000000</td>\n",
       "      <td>0.885911</td>\n",
       "      <td>0.981001</td>\n",
       "    </tr>\n",
       "    <tr>\n",
       "      <th>RH</th>\n",
       "      <td>-0.048227</td>\n",
       "      <td>0.745375</td>\n",
       "      <td>0.008284</td>\n",
       "      <td>0.925062</td>\n",
       "      <td>0.585803</td>\n",
       "      <td>-0.053009</td>\n",
       "      <td>0.573549</td>\n",
       "      <td>-0.081305</td>\n",
       "      <td>0.640707</td>\n",
       "      <td>0.524955</td>\n",
       "      <td>0.885911</td>\n",
       "      <td>1.000000</td>\n",
       "      <td>0.943995</td>\n",
       "    </tr>\n",
       "    <tr>\n",
       "      <th>AH</th>\n",
       "      <td>-0.045892</td>\n",
       "      <td>0.764903</td>\n",
       "      <td>0.012500</td>\n",
       "      <td>0.984555</td>\n",
       "      <td>0.646572</td>\n",
       "      <td>-0.095847</td>\n",
       "      <td>0.621618</td>\n",
       "      <td>-0.060440</td>\n",
       "      <td>0.691913</td>\n",
       "      <td>0.519467</td>\n",
       "      <td>0.981001</td>\n",
       "      <td>0.943995</td>\n",
       "      <td>1.000000</td>\n",
       "    </tr>\n",
       "  </tbody>\n",
       "</table>\n",
       "</div>"
      ],
      "text/plain": [
       "                 CO(GT)  PT08.S1(CO)  NMHC(GT)  C6H6(GT)  PT08.S2(NMHC)  \\\n",
       "CO(GT)         1.000000     0.041411  0.128351 -0.031378       0.029926   \n",
       "PT08.S1(CO)    0.041411     1.000000  0.170007  0.852687       0.933102   \n",
       "NMHC(GT)       0.128351     0.170007  1.000000  0.037323       0.110104   \n",
       "C6H6(GT)      -0.031378     0.852687  0.037323  1.000000       0.767433   \n",
       "PT08.S2(NMHC)  0.029926     0.933102  0.110104  0.767433       1.000000   \n",
       "NOx(GT)        0.526451     0.277993 -0.004427 -0.001174       0.331272   \n",
       "PT08.S3(NOx)  -0.089981     0.087019  0.048821  0.512193      -0.073667   \n",
       "NO2(GT)        0.671127     0.154030  0.103307 -0.010992       0.176488   \n",
       "PT08.S4(NO2)  -0.073724     0.845149  0.162680  0.774673       0.874782   \n",
       "PT08.S5(O3)    0.080310     0.892434  0.101185  0.641334       0.909905   \n",
       "T             -0.068939     0.754844 -0.000009  0.971375       0.669025   \n",
       "RH            -0.048227     0.745375  0.008284  0.925062       0.585803   \n",
       "AH            -0.045892     0.764903  0.012500  0.984555       0.646572   \n",
       "\n",
       "                NOx(GT)  PT08.S3(NOx)   NO2(GT)  PT08.S4(NO2)  PT08.S5(O3)  \\\n",
       "CO(GT)         0.526451     -0.089981  0.671127     -0.073724     0.080310   \n",
       "PT08.S1(CO)    0.277993      0.087019  0.154030      0.845149     0.892434   \n",
       "NMHC(GT)      -0.004427      0.048821  0.103307      0.162680     0.101185   \n",
       "C6H6(GT)      -0.001174      0.512193 -0.010992      0.774673     0.641334   \n",
       "PT08.S2(NMHC)  0.331272     -0.073667  0.176488      0.874782     0.909905   \n",
       "NOx(GT)        1.000000     -0.436084  0.817139      0.035546     0.461889   \n",
       "PT08.S3(NOx)  -0.436084      1.000000 -0.256232      0.122734    -0.208865   \n",
       "NO2(GT)        0.817139     -0.256232  1.000000     -0.022174     0.253439   \n",
       "PT08.S4(NO2)   0.035546      0.122734 -0.022174      1.000000     0.723690   \n",
       "PT08.S5(O3)    0.461889     -0.208865  0.253439      0.723690     1.000000   \n",
       "T             -0.138452      0.588111 -0.084104      0.755060     0.503700   \n",
       "RH            -0.053009      0.573549 -0.081305      0.640707     0.524955   \n",
       "AH            -0.095847      0.621618 -0.060440      0.691913     0.519467   \n",
       "\n",
       "                      T        RH        AH  \n",
       "CO(GT)        -0.068939 -0.048227 -0.045892  \n",
       "PT08.S1(CO)    0.754844  0.745375  0.764903  \n",
       "NMHC(GT)      -0.000009  0.008284  0.012500  \n",
       "C6H6(GT)       0.971375  0.925062  0.984555  \n",
       "PT08.S2(NMHC)  0.669025  0.585803  0.646572  \n",
       "NOx(GT)       -0.138452 -0.053009 -0.095847  \n",
       "PT08.S3(NOx)   0.588111  0.573549  0.621618  \n",
       "NO2(GT)       -0.084104 -0.081305 -0.060440  \n",
       "PT08.S4(NO2)   0.755060  0.640707  0.691913  \n",
       "PT08.S5(O3)    0.503700  0.524955  0.519467  \n",
       "T              1.000000  0.885911  0.981001  \n",
       "RH             0.885911  1.000000  0.943995  \n",
       "AH             0.981001  0.943995  1.000000  "
      ]
     },
     "execution_count": 344,
     "metadata": {},
     "output_type": "execute_result"
    }
   ],
   "source": [
    "airquality.corr()"
   ]
  },
  {
   "cell_type": "markdown",
   "metadata": {},
   "source": [
    "We can also filter information conditionally. "
   ]
  },
  {
   "cell_type": "code",
   "execution_count": 345,
   "metadata": {
    "collapsed": false
   },
   "outputs": [
    {
     "name": "stdout",
     "output_type": "stream",
     "text": [
      "0       False\n",
      "1       False\n",
      "2       False\n",
      "3       False\n",
      "4       False\n",
      "5       False\n",
      "6       False\n",
      "7       False\n",
      "8       False\n",
      "9       False\n",
      "10      False\n",
      "11      False\n",
      "12      False\n",
      "13      False\n",
      "14      False\n",
      "15      False\n",
      "16      False\n",
      "17      False\n",
      "18      False\n",
      "19      False\n",
      "20      False\n",
      "21      False\n",
      "22      False\n",
      "23      False\n",
      "24       True\n",
      "25       True\n",
      "26       True\n",
      "27       True\n",
      "28      False\n",
      "29      False\n",
      "        ...  \n",
      "9441    False\n",
      "9442    False\n",
      "9443    False\n",
      "9444    False\n",
      "9445    False\n",
      "9446    False\n",
      "9447    False\n",
      "9448    False\n",
      "9449    False\n",
      "9450    False\n",
      "9451    False\n",
      "9452    False\n",
      "9453    False\n",
      "9454    False\n",
      "9455    False\n",
      "9456    False\n",
      "9457    False\n",
      "9458    False\n",
      "9459    False\n",
      "9460    False\n",
      "9461    False\n",
      "9462    False\n",
      "9463    False\n",
      "9464    False\n",
      "9465    False\n",
      "9466    False\n",
      "9467    False\n",
      "9468    False\n",
      "9469    False\n",
      "9470    False\n",
      "Name: CO(GT), Length: 9471, dtype: bool\n"
     ]
    },
    {
     "data": {
      "text/plain": [
       "True"
      ]
     },
     "execution_count": 345,
     "metadata": {},
     "output_type": "execute_result"
    }
   ],
   "source": [
    "filter_1 = airquality['CO(GT)'] > 3.0\n",
    "print(filter_1)\n",
    "filter_1.any()"
   ]
  },
  {
   "cell_type": "code",
   "execution_count": 346,
   "metadata": {
    "collapsed": false
   },
   "outputs": [
    {
     "data": {
      "text/plain": [
       "False"
      ]
     },
     "execution_count": 346,
     "metadata": {},
     "output_type": "execute_result"
    }
   ],
   "source": [
    "filter_2 = airquality['CO(GT)'] > 3.0\n",
    "filter_2.all()"
   ]
  },
  {
   "cell_type": "markdown",
   "metadata": {},
   "source": [
    "<h1 style=\"font-size:2em;color:#2467C0\">Handling Missing Data</h1>"
   ]
  },
  {
   "cell_type": "markdown",
   "metadata": {},
   "source": [
    "If you looked at the numbers, you may have noticed that a lot of them were -200.0. That doesn't seem like a reasonable pollutant concentration, so perhaps the creators of the dataset intended that to be a NULL value. Assuming this is the case, let's fill all Null values to be -200.0. "
   ]
  },
  {
   "cell_type": "code",
   "execution_count": 347,
   "metadata": {
    "collapsed": false
   },
   "outputs": [
    {
     "data": {
      "text/plain": [
       "(9471, 15)"
      ]
     },
     "execution_count": 347,
     "metadata": {},
     "output_type": "execute_result"
    }
   ],
   "source": [
    "airquality.shape"
   ]
  },
  {
   "cell_type": "code",
   "execution_count": 348,
   "metadata": {
    "collapsed": false
   },
   "outputs": [
    {
     "data": {
      "text/plain": [
       "Date             True\n",
       "Time             True\n",
       "CO(GT)           True\n",
       "PT08.S1(CO)      True\n",
       "NMHC(GT)         True\n",
       "C6H6(GT)         True\n",
       "PT08.S2(NMHC)    True\n",
       "NOx(GT)          True\n",
       "PT08.S3(NOx)     True\n",
       "NO2(GT)          True\n",
       "PT08.S4(NO2)     True\n",
       "PT08.S5(O3)      True\n",
       "T                True\n",
       "RH               True\n",
       "AH               True\n",
       "dtype: bool"
      ]
     },
     "execution_count": 348,
     "metadata": {},
     "output_type": "execute_result"
    }
   ],
   "source": [
    "#Check if there are Null values in each row\n",
    "airquality.isnull().any()\n"
   ]
  },
  {
   "cell_type": "code",
   "execution_count": 349,
   "metadata": {
    "collapsed": false
   },
   "outputs": [],
   "source": [
    "airquality_filled = airquality.fillna(value=-200.0)"
   ]
  },
  {
   "cell_type": "code",
   "execution_count": 350,
   "metadata": {
    "collapsed": false
   },
   "outputs": [
    {
     "data": {
      "text/plain": [
       "Date             False\n",
       "Time             False\n",
       "CO(GT)           False\n",
       "PT08.S1(CO)      False\n",
       "NMHC(GT)         False\n",
       "C6H6(GT)         False\n",
       "PT08.S2(NMHC)    False\n",
       "NOx(GT)          False\n",
       "PT08.S3(NOx)     False\n",
       "NO2(GT)          False\n",
       "PT08.S4(NO2)     False\n",
       "PT08.S5(O3)      False\n",
       "T                False\n",
       "RH               False\n",
       "AH               False\n",
       "dtype: bool"
      ]
     },
     "execution_count": 350,
     "metadata": {},
     "output_type": "execute_result"
    }
   ],
   "source": [
    "airquality_filled.isnull().any()\n"
   ]
  },
  {
   "cell_type": "markdown",
   "metadata": {},
   "source": [
    "The NULL values are gone, and now our data is consistent. We can use rows which have some NULL columns if we want by using airquality_filled, where the NULL values are replaced with the value -200.0. However, we can get rid all samples with NULL columns in the original DataFrame if we want to use only complete observations. "
   ]
  },
  {
   "cell_type": "code",
   "execution_count": 354,
   "metadata": {
    "collapsed": false
   },
   "outputs": [],
   "source": [
    "airquality = airquality.dropna()"
   ]
  },
  {
   "cell_type": "code",
   "execution_count": 355,
   "metadata": {
    "collapsed": false
   },
   "outputs": [
    {
     "data": {
      "text/plain": [
       "Date             False\n",
       "Time             False\n",
       "CO(GT)           False\n",
       "PT08.S1(CO)      False\n",
       "NMHC(GT)         False\n",
       "C6H6(GT)         False\n",
       "PT08.S2(NMHC)    False\n",
       "NOx(GT)          False\n",
       "PT08.S3(NOx)     False\n",
       "NO2(GT)          False\n",
       "PT08.S4(NO2)     False\n",
       "PT08.S5(O3)      False\n",
       "T                False\n",
       "RH               False\n",
       "AH               False\n",
       "dtype: bool"
      ]
     },
     "execution_count": 355,
     "metadata": {},
     "output_type": "execute_result"
    }
   ],
   "source": [
    "airquality.isnull().any()"
   ]
  },
  {
   "cell_type": "code",
   "execution_count": 356,
   "metadata": {
    "collapsed": false
   },
   "outputs": [
    {
     "data": {
      "text/plain": [
       "(9357, 15)"
      ]
     },
     "execution_count": 356,
     "metadata": {},
     "output_type": "execute_result"
    }
   ],
   "source": [
    "airquality.shape"
   ]
  },
  {
   "cell_type": "markdown",
   "metadata": {
    "collapsed": true
   },
   "source": [
    "Thats nice ! No NULL rows ! Any observation with a NULL value has been removed. Therefore, the number of rows as been reduced."
   ]
  }
 ],
 "metadata": {
  "anaconda-cloud": {},
  "kernelspec": {
   "display_name": "Python [conda env:py35]",
   "language": "python",
   "name": "conda-env-py35-py"
  },
  "language_info": {
   "codemirror_mode": {
    "name": "ipython",
    "version": 3
   },
   "file_extension": ".py",
   "mimetype": "text/x-python",
   "name": "python",
   "nbconvert_exporter": "python",
   "pygments_lexer": "ipython3",
   "version": "3.5.2"
  }
 },
 "nbformat": 4,
 "nbformat_minor": 1
}
