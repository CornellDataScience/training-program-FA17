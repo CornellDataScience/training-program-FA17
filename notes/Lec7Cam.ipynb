{
 "cells": [
  {
   "cell_type": "markdown",
   "metadata": {},
   "source": [
    "## Geometric Interpretation"
   ]
  },
  {
   "cell_type": "markdown",
   "metadata": {},
   "source": [
    "The geometric interpretation of the decision tree is fairly straightfoward. All we are trying to do is pick a vertical or horizontal line to use to split our problem domain in half, so to classify one half as class one and the other half as class two. \n",
    "\n",
    "However, we're not going to stop with just a single mediocre split: after splitting the data in half, we then take each of those halfs and repeat the process - if suffeciently good (this is determined by a hyperparameter set by the user)\n",
    "cut to separate classes in the problem, make it, splitting the problem in half. Here is a visual representation of this process:\n",
    "\n",
    "![Decision Tree Example](DecisionTree.png)\n",
    "\n"
   ]
  },
  {
   "cell_type": "markdown",
   "metadata": {},
   "source": [
    "Let's take a look at what happens here: we first identify a place to cut to separate the two classes. Then, we look at the two resulting pieces. There does not exist a good cut for the left piece, so we leave it as it is. The right piece\n",
    "however, has a fairly good cut to make. In the end, we'll represent these cuts using straight lines on the original graph."
   ]
  },
  {
   "cell_type": "markdown",
   "metadata": {},
   "source": [
    "You may notice that there is a sort of recursive quality to this process, and you would be right to make that observation. Every time the domain splits, we then look to see if it's resulting halfs may be split again. This actually leads to the namesake of the decision tree, and perhaps the best way to rationalize it's structure: a tree.\n",
    "\n",
    "![Tree Tree](DecisionTreeTree.png)"
   ]
  },
  {
   "cell_type": "markdown",
   "metadata": {},
   "source": [
    "At every node a condition is evaluated; each value of true and false will then lead to another node. This node will either be a class designation, which would then be assigned to the sample, or another condition to evaluate in order to make a more accurate decision."
   ]
  }
 ],
 "metadata": {
  "kernelspec": {
   "display_name": "Python 3",
   "language": "python",
   "name": "python3"
  },
  "language_info": {
   "codemirror_mode": {
    "name": "ipython",
    "version": 3
   },
   "file_extension": ".py",
   "mimetype": "text/x-python",
   "name": "python",
   "nbconvert_exporter": "python",
   "pygments_lexer": "ipython3",
   "version": "3.6.1"
  }
 },
 "nbformat": 4,
 "nbformat_minor": 2
}
