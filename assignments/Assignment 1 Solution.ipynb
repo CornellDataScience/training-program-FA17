{
 "cells": [
  {
   "cell_type": "markdown",
   "metadata": {},
   "source": [
    "<p style=\"color:dodgerblue; font-size:30px; font-weight:bold\">Assignment 1</p>\n",
    "<p style=\"color:black; font-size:50px; font-weight:bold\">Intro to R</p>\n",
    "<br>\n",
    "<p style=\"color:red; font-size:18px; font-weight:bold\">February 15th, 2017</p>\n",
    "\n",
    "### Overview\n",
    "**How to submit this:** Submit this assignment through CMS.\n",
    "\n",
    "**Objectives:** Become familiar with the data structures and syntax of R, learn how to perform initial analysis on a csv data set, visualize findings using the built-in “plot” function.\n",
    "\n",
    "## Problem 1 - Data Structure\n",
    "*Includes : rbind, data.frame, find mean, find std, find min, factor*\n",
    "\n",
    "As a member of Cornell Data Science, you decided to investigate the distribution of gender across the majors from College of Engineering, using R. Following is a table and stats based on the real data of 2016 Fall class from Cornell Engineering Website. Your task is to create data frame of this table in R and perform initial analysis of the data. \n",
    "\n",
    "<table border=\"2\" bordercolor=\"\" cellpadding=\"3\" cellspacing=\"3\" style=\"background-color: white; border-color: lavender; width: 100%px;\">\n",
    "<tbody>\n",
    "<tr align=\"center\">\n",
    "<th><span style=\"color: purple;\"></span></th>\n",
    "<th><span style=\"color: purple;\">Biomedical Engineering</span></th>\n",
    "<th><span style=\"color: purple;\">Computer Science</span></th>\n",
    "<th><span style=\"color: purple;\">Info Science</span></th>\n",
    "<th><span style=\"color: purple;\">Chemical Engineering</span></th>\n",
    "<th><span style=\"color: purple;\">Operation Research</span></th>\n",
    "</tr>\n",
    "<tr align=\"center\">\n",
    "<th><span style=\"color: blue;\">Total Male Students</span></th>\n",
    "<th>23</th>\n",
    "<th>326</th>\n",
    "<th>20</th>\n",
    "<th>88</th>\n",
    "<th>110</th>\n",
    "</tr>\n",
    "<tr align=\"center\">\n",
    "<th><span style=\"color: blue;\">Total Female Students</span></th>\n",
    "<th>65</th>\n",
    "<th>134</th>\n",
    "<th>23</th>\n",
    "<th>99</th>\n",
    "<th>107</th>\n",
    "</tr>\n",
    "</tbody></table>\n",
    "\n",
    "https://www.engineering.cornell.edu/resources/registrar/stats.cfm\n",
    "\n",
    "### 1-1 Create Vectors\n",
    "\n",
    "From the table above, create 1 character vector of college majors, 2 numeric vectors that store the number of students by gender. Store each vectors into a variable and name *Major, Male, Female* accordingly."
   ]
  },
  {
   "cell_type": "code",
   "execution_count": 1,
   "metadata": {
    "collapsed": true
   },
   "outputs": [],
   "source": [
    "Major <- c(\"Biomedical Engineering\",\n",
    "           \"Computer Science\",\n",
    "           \"Info Science\",\n",
    "           \"Chemical Engineering\",\n",
    "           \"Operation Research\")\n",
    "Male <- c(23,326,20,88,110)\n",
    "Female <- c(65,134,23,99,107)"
   ]
  },
  {
   "cell_type": "markdown",
   "metadata": {},
   "source": [
    "### 1-2 Create a Data.frame\n",
    "\n",
    "Combine 3 vectors from previous questions and create a Data.frame. Store the object into a variable and name it *GenderDist*. See what *GenderDist* prints. What about *GenderDist[1]*? *GenderDist$Male[1]*?"
   ]
  },
  {
   "cell_type": "code",
   "execution_count": 2,
   "metadata": {
    "collapsed": false
   },
   "outputs": [
    {
     "name": "stdout",
     "output_type": "stream",
     "text": [
      "                   Major Male Female\n",
      "1 Biomedical Engineering   23     65\n",
      "2       Computer Science  326    134\n",
      "3           Info Science   20     23\n",
      "4   Chemical Engineering   88     99\n",
      "5     Operation Research  110    107\n"
     ]
    }
   ],
   "source": [
    "GenderDist <- data.frame(Major, Male, Female)\n",
    "print(GenderDist)"
   ]
  },
  {
   "cell_type": "code",
   "execution_count": 3,
   "metadata": {
    "collapsed": false
   },
   "outputs": [
    {
     "name": "stdout",
     "output_type": "stream",
     "text": [
      "                   Major\n",
      "1 Biomedical Engineering\n",
      "2       Computer Science\n",
      "3           Info Science\n",
      "4   Chemical Engineering\n",
      "5     Operation Research\n"
     ]
    }
   ],
   "source": [
    "print(GenderDist[1])"
   ]
  },
  {
   "cell_type": "code",
   "execution_count": 4,
   "metadata": {
    "collapsed": false
   },
   "outputs": [
    {
     "name": "stdout",
     "output_type": "stream",
     "text": [
      "[1] 23\n"
     ]
    }
   ],
   "source": [
    "print(GenderDist$Male[1])"
   ]
  },
  {
   "cell_type": "markdown",
   "metadata": {},
   "source": [
    "### 1-3 Max, Mean, Std\n",
    "\n",
    "Use built-in function, max( ), mean( ), sd( ) to find the max value, mean value and the standard deviation of female students from *GenderDist*."
   ]
  },
  {
   "cell_type": "code",
   "execution_count": 5,
   "metadata": {
    "collapsed": false
   },
   "outputs": [
    {
     "data": {
      "text/html": [
       "134"
      ],
      "text/latex": [
       "134"
      ],
      "text/markdown": [
       "134"
      ],
      "text/plain": [
       "[1] 134"
      ]
     },
     "metadata": {},
     "output_type": "display_data"
    },
    {
     "data": {
      "text/html": [
       "85.6"
      ],
      "text/latex": [
       "85.6"
      ],
      "text/markdown": [
       "85.6"
      ],
      "text/plain": [
       "[1] 85.6"
      ]
     },
     "metadata": {},
     "output_type": "display_data"
    },
    {
     "data": {
      "text/html": [
       "42.7878487423708"
      ],
      "text/latex": [
       "42.7878487423708"
      ],
      "text/markdown": [
       "42.7878487423708"
      ],
      "text/plain": [
       "[1] 42.78785"
      ]
     },
     "metadata": {},
     "output_type": "display_data"
    }
   ],
   "source": [
    "max(GenderDist$Female)\n",
    "mean(GenderDist$Female)\n",
    "sd(GenderDist$Female)"
   ]
  },
  {
   "cell_type": "markdown",
   "metadata": {},
   "source": [
    "Now, you decided to add 3 more columns, *Material Science, Mechanical Engineering* and *Unaffiliated*.\n",
    "\n",
    "<table border=\"2\" bordercolor=\"\" cellpadding=\"3\" cellspacing=\"3\" style=\"background-color: white; border-color: lavender; width: 100%px;\">\n",
    "<tbody>\n",
    "<tr align=\"center\">\n",
    "<th><span style=\"color: purple;\"></span></th>\n",
    "<th><span style=\"color: purple;\">Material Science</span></th>\n",
    "<th><span style=\"color: purple;\">Mechanical Engineering</span></th>\n",
    "<th><span style=\"color: purple;\">Unaffiliated</span></th>\n",
    "</tr>\n",
    "<tr align=\"center\">\n",
    "<th><span style=\"color: blue;\">Total Male Students</span></th>\n",
    "<th>21</th>\n",
    "<th>205</th>\n",
    "<th>746</th>\n",
    "</tr>\n",
    "<tr align=\"center\">\n",
    "<th><span style=\"color: blue;\">Total Female Students</span></th>\n",
    "<th>32</th>\n",
    "<th>78</th>\n",
    "<th>690</th>\n",
    "</tr>\n",
    "</tbody></table>\n",
    "\n",
    "https://www.engineering.cornell.edu/resources/registrar/stats.cfm\n",
    "\n",
    "### 1-4 Combine 2 Tables\n",
    "\n",
    "Create a new data frame of the 3 new categories, and store it into a variable. Once you finish creating 2 tables, combine 2 tables and create a new data frame, name it *NewGenderDist*."
   ]
  },
  {
   "cell_type": "code",
   "execution_count": 8,
   "metadata": {
    "collapsed": false
   },
   "outputs": [
    {
     "name": "stdout",
     "output_type": "stream",
     "text": [
      "                   Major Male Female\n",
      "1 Biomedical Engineering   23     65\n",
      "2       Computer Science  326    134\n",
      "3           Info Science   20     23\n",
      "4   Chemical Engineering   88     99\n",
      "5     Operation Research  110    107\n",
      "6       Material Science   21     32\n",
      "7 Mechanical Engineering  205     78\n",
      "8           Unaffiliated  746    690\n"
     ]
    }
   ],
   "source": [
    "Major <- c(\"Material Science\",\n",
    "           \"Mechanical Engineering\",\n",
    "           \"Unaffiliated\")\n",
    "Male <- c(21,205,746)\n",
    "Female <- c(32,78,690)\n",
    "AddGenderList <- data.frame(Major, Male, Female)\n",
    "NewGenderList <- rbind(GenderDist, AddGenderList)\n",
    "print(NewGenderList)"
   ]
  },
  {
   "cell_type": "markdown",
   "metadata": {},
   "source": [
    "### 1-5 Create a New Column\n",
    "\n",
    "You want to see the difference of enrollment by gender across majors. Create a new column in *NewGenderDist* which stores values by subtracting male enrollment from female enrollment. For example, the difference value of Chemical Engineering should be 11 ( 99 - 88 = 11)."
   ]
  },
  {
   "cell_type": "code",
   "execution_count": 9,
   "metadata": {
    "collapsed": false
   },
   "outputs": [
    {
     "name": "stdout",
     "output_type": "stream",
     "text": [
      "                   Major Male Female GenderDiff\n",
      "1 Biomedical Engineering   23     65         42\n",
      "2       Computer Science  326    134       -192\n",
      "3           Info Science   20     23          3\n",
      "4   Chemical Engineering   88     99         11\n",
      "5     Operation Research  110    107         -3\n",
      "6       Material Science   21     32         11\n",
      "7 Mechanical Engineering  205     78       -127\n",
      "8           Unaffiliated  746    690        -56\n"
     ]
    }
   ],
   "source": [
    "NewGenderList$GenderDiff <- NewGenderList$Female - NewGenderList$Male\n",
    "print(NewGenderList)"
   ]
  },
  {
   "cell_type": "markdown",
   "metadata": {},
   "source": [
    "<br>\n",
    "## Problem 2 - Initial Analysis\n",
    "*Includes:  str, summary, subset, na.rm = TRUE*\n",
    "\n",
    "One of the most infamous shipwrecks in history, the sinking of the RMS Titanic had killed 1502 out of 2224 passengers and crew. Although there was some element of luck involved in surviving the sinking, some groups of people were more likely to survive than others, such as women, children, and the upper-class. In this assignment, your task is to read in the given csv file and do initial analysis of the dataset using basic feature engineerings and basic visual plots.\n",
    "\n",
    "### 2-1 Initial Setup\n",
    "\n",
    "Download “train.csv” dataset from https://www.kaggle.com/c/titanic/data. Use read.csv(“*type file name here*”) function to store the csv file into a variable and name it *Titanic*.\n",
    "(Note: you can navigate through different directories using setwd(“*type file location here*”) and check your current working directory in your R console using getwd() function.)"
   ]
  },
  {
   "cell_type": "code",
   "execution_count": 6,
   "metadata": {
    "collapsed": false
   },
   "outputs": [],
   "source": [
    "Titanic <- read.csv(\"dataset/titanic.csv\")"
   ]
  },
  {
   "cell_type": "markdown",
   "metadata": {},
   "source": [
    "### 2-2 Summary of the Dataset\n",
    "\n",
    "R provides a useful summary of a data.frame with str() and summary() functions. How many observations and variables does the Titanic dataset have? How many variables have *Factor* mode? How many missing values does variable *Age* have?"
   ]
  },
  {
   "cell_type": "code",
   "execution_count": 7,
   "metadata": {
    "collapsed": false
   },
   "outputs": [
    {
     "name": "stdout",
     "output_type": "stream",
     "text": [
      "'data.frame':\t891 obs. of  12 variables:\n",
      " $ PassengerId: int  1 2 3 4 5 6 7 8 9 10 ...\n",
      " $ Survived   : int  0 1 1 1 0 0 0 0 1 1 ...\n",
      " $ Pclass     : int  3 1 3 1 3 3 1 3 3 2 ...\n",
      " $ Name       : Factor w/ 891 levels \"Abbing, Mr. Anthony\",..: 109 191 358 277 16 559 520 629 417 581 ...\n",
      " $ Sex        : Factor w/ 2 levels \"female\",\"male\": 2 1 1 1 2 2 2 2 1 1 ...\n",
      " $ Age        : num  22 38 26 35 35 NA 54 2 27 14 ...\n",
      " $ SibSp      : int  1 1 0 1 0 0 0 3 0 1 ...\n",
      " $ Parch      : int  0 0 0 0 0 0 0 1 2 0 ...\n",
      " $ Ticket     : Factor w/ 681 levels \"110152\",\"110413\",..: 524 597 670 50 473 276 86 396 345 133 ...\n",
      " $ Fare       : num  7.25 71.28 7.92 53.1 8.05 ...\n",
      " $ Cabin      : Factor w/ 148 levels \"\",\"A10\",\"A14\",..: 1 83 1 57 1 1 131 1 1 1 ...\n",
      " $ Embarked   : Factor w/ 4 levels \"\",\"C\",\"Q\",\"S\": 4 2 4 4 4 3 4 4 4 2 ...\n"
     ]
    },
    {
     "data": {
      "text/plain": [
       "  PassengerId       Survived          Pclass     \n",
       " Min.   :  1.0   Min.   :0.0000   Min.   :1.000  \n",
       " 1st Qu.:223.5   1st Qu.:0.0000   1st Qu.:2.000  \n",
       " Median :446.0   Median :0.0000   Median :3.000  \n",
       " Mean   :446.0   Mean   :0.3838   Mean   :2.309  \n",
       " 3rd Qu.:668.5   3rd Qu.:1.0000   3rd Qu.:3.000  \n",
       " Max.   :891.0   Max.   :1.0000   Max.   :3.000  \n",
       "                                                 \n",
       "                                    Name         Sex           Age       \n",
       " Abbing, Mr. Anthony                  :  1   female:314   Min.   : 0.42  \n",
       " Abbott, Mr. Rossmore Edward          :  1   male  :577   1st Qu.:20.12  \n",
       " Abbott, Mrs. Stanton (Rosa Hunt)     :  1                Median :28.00  \n",
       " Abelson, Mr. Samuel                  :  1                Mean   :29.70  \n",
       " Abelson, Mrs. Samuel (Hannah Wizosky):  1                3rd Qu.:38.00  \n",
       " Adahl, Mr. Mauritz Nils Martin       :  1                Max.   :80.00  \n",
       " (Other)                              :885                NA's   :177    \n",
       "     SibSp           Parch             Ticket         Fare       \n",
       " Min.   :0.000   Min.   :0.0000   1601    :  7   Min.   :  0.00  \n",
       " 1st Qu.:0.000   1st Qu.:0.0000   347082  :  7   1st Qu.:  7.91  \n",
       " Median :0.000   Median :0.0000   CA. 2343:  7   Median : 14.45  \n",
       " Mean   :0.523   Mean   :0.3816   3101295 :  6   Mean   : 32.20  \n",
       " 3rd Qu.:1.000   3rd Qu.:0.0000   347088  :  6   3rd Qu.: 31.00  \n",
       " Max.   :8.000   Max.   :6.0000   CA 2144 :  6   Max.   :512.33  \n",
       "                                  (Other) :852                   \n",
       "         Cabin     Embarked\n",
       "            :687    :  2   \n",
       " B96 B98    :  4   C:168   \n",
       " C23 C25 C27:  4   Q: 77   \n",
       " G6         :  4   S:644   \n",
       " C22 C26    :  3           \n",
       " D          :  3           \n",
       " (Other)    :186           "
      ]
     },
     "metadata": {},
     "output_type": "display_data"
    }
   ],
   "source": [
    "str(Titanic)\n",
    "summary(Titanic)\n",
    "# 891 obs. of 12 variables\n",
    "# 5 variables have Factor mode\n",
    "# Age has 177 missing variables"
   ]
  },
  {
   "cell_type": "markdown",
   "metadata": {},
   "source": [
    "### 2-3 Subset of Data\n",
    "\n",
    "While skimming through the data, you found values smaller than 1 in *Age* category and decided to extract a vector only containing those values. Perform this operation by using built-in subset() function in R. Your final result should print an age vector with values less than 1."
   ]
  },
  {
   "cell_type": "code",
   "execution_count": 8,
   "metadata": {
    "collapsed": false
   },
   "outputs": [
    {
     "name": "stdout",
     "output_type": "stream",
     "text": [
      "[1] 0.83 0.92 0.75 0.75 0.67 0.42 0.83\n"
     ]
    }
   ],
   "source": [
    "print(subset(Titanic, Age < 1)$Age)"
   ]
  },
  {
   "cell_type": "markdown",
   "metadata": {},
   "source": [
    "Then create a male-only subset and store it into a variable *MalePassenger*."
   ]
  },
  {
   "cell_type": "code",
   "execution_count": 9,
   "metadata": {
    "collapsed": true
   },
   "outputs": [],
   "source": [
    "MalePassenger <- subset(Titanic, Sex == \"male\")"
   ]
  },
  {
   "cell_type": "markdown",
   "metadata": {},
   "source": [
    "### 2-4 Max, Mean, Std\n",
    "\n",
    "Use built-in function, max( ), mean( ), sd( ) to find the max value, mean value and the standard deviation of Male passengers’ Age. You might need to an extra step from 1-3 in order to get right outputs."
   ]
  },
  {
   "cell_type": "code",
   "execution_count": 10,
   "metadata": {
    "collapsed": false
   },
   "outputs": [
    {
     "data": {
      "text/html": [
       "80"
      ],
      "text/latex": [
       "80"
      ],
      "text/markdown": [
       "80"
      ],
      "text/plain": [
       "[1] 80"
      ]
     },
     "metadata": {},
     "output_type": "display_data"
    },
    {
     "data": {
      "text/html": [
       "30.7266445916115"
      ],
      "text/latex": [
       "30.7266445916115"
      ],
      "text/markdown": [
       "30.7266445916115"
      ],
      "text/plain": [
       "[1] 30.72664"
      ]
     },
     "metadata": {},
     "output_type": "display_data"
    },
    {
     "data": {
      "text/html": [
       "14.6782008238166"
      ],
      "text/latex": [
       "14.6782008238166"
      ],
      "text/markdown": [
       "14.6782008238166"
      ],
      "text/plain": [
       "[1] 14.6782"
      ]
     },
     "metadata": {},
     "output_type": "display_data"
    }
   ],
   "source": [
    "max(MalePassenger$Age, na.rm = TRUE)\n",
    "mean(MalePassenger$Age, na.rm = TRUE)\n",
    "sd(MalePassenger$Age, na.rm = TRUE)"
   ]
  },
  {
   "cell_type": "markdown",
   "metadata": {},
   "source": [
    "<br>\n",
    "## Karma\n",
    "Optional problems for additional practice\n",
    "\n",
    "Karma questions don't count toward your grading (in other words, as long as you finished Problem 1 and 2, your assignment will be complete even if you don't try any Karmas). It is still a good practice to try them if you have time.\n",
    "\n",
    "### K-1 Largest Prime Factor\n",
    "\n",
    "Write a function in R that returns the largest prime factor of a given number (if the number is less than 1, return NULL). (Par: 10 lines)"
   ]
  },
  {
   "cell_type": "code",
   "execution_count": 15,
   "metadata": {
    "collapsed": true
   },
   "outputs": [],
   "source": [
    "# example solution\n",
    "# find the largest prime factor of a number\n",
    "findLPF <- function(x) {\n",
    "  if (x < 1) return(NULL)\n",
    "  i <- 2\n",
    "  while (i <= sqrt(x)) {\n",
    "    while (x %% i == 0) { x <- x / i }\n",
    "    i <- i + 1\n",
    "  }\n",
    "  if (x == 1) return(i-1)\n",
    "  else return(x)\n",
    "}"
   ]
  }
 ],
 "metadata": {
  "anaconda-cloud": {},
  "kernelspec": {
   "display_name": "R",
   "language": "R",
   "name": "ir"
  },
  "language_info": {
   "codemirror_mode": "r",
   "file_extension": ".r",
   "mimetype": "text/x-r-source",
   "name": "R",
   "pygments_lexer": "r",
   "version": "3.3.2"
  }
 },
 "nbformat": 4,
 "nbformat_minor": 0
}
